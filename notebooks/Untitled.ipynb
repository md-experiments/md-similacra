{
 "cells": [
  {
   "cell_type": "code",
   "execution_count": 1,
   "id": "97e58660",
   "metadata": {},
   "outputs": [],
   "source": [
    "import boto3"
   ]
  },
  {
   "cell_type": "code",
   "execution_count": 8,
   "id": "77d5aa8d",
   "metadata": {},
   "outputs": [],
   "source": [
    "import yaml, os\n",
    "import zipfile\n",
    "\n",
    "def get_keys(file_key = 'aws_key.yaml'):\n",
    "    # Looks for credentials in local file\n",
    "    if os.path.exists(file_key):\n",
    "        secrets_dict = yaml.load(open(file_key,'r'), Loader=yaml.FullLoader)\n",
    "        AWS_ACCESS_KEY = secrets_dict['AWS_ACCESS_KEY']\n",
    "        AWS_SECRET_KEY = secrets_dict['AWS_SECRET_KEY']        \n",
    "    # Looks for credentials as environment variables (recommended)\n",
    "    else:\n",
    "        AWS_ACCESS_KEY = os.environ['AWS_ACCESS_KEY']\n",
    "        AWS_SECRET_KEY = os.environ['AWS_SECRET_KEY']\n",
    "    return AWS_ACCESS_KEY, AWS_SECRET_KEY"
   ]
  },
  {
   "cell_type": "code",
   "execution_count": 18,
   "id": "95c9e5ba",
   "metadata": {},
   "outputs": [],
   "source": [
    "ACCESS_KEY, SECRET_KEY = get_keys(file_key = '../aws_key.yaml')\n",
    "s3 = boto3.client('s3', region_name = 'us-west-2', \n",
    "    aws_access_key_id = ACCESS_KEY,\n",
    "    aws_secret_access_key = SECRET_KEY)"
   ]
  },
  {
   "cell_type": "code",
   "execution_count": 19,
   "id": "54256bf6",
   "metadata": {},
   "outputs": [
    {
     "data": {
      "text/plain": [
       "{'ResponseMetadata': {'RequestId': '2MMM6J1FVDAX3TY8',\n",
       "  'HostId': 'HhaU0L6AhhuQQ7EvHddp8r6S4/lSjwNVrPOKALQpP2N1qLnKuADa6GPFbwSCkTVKP3YFYkssMn4=',\n",
       "  'HTTPStatusCode': 200,\n",
       "  'HTTPHeaders': {'x-amz-id-2': 'HhaU0L6AhhuQQ7EvHddp8r6S4/lSjwNVrPOKALQpP2N1qLnKuADa6GPFbwSCkTVKP3YFYkssMn4=',\n",
       "   'x-amz-request-id': '2MMM6J1FVDAX3TY8',\n",
       "   'date': 'Sun, 28 May 2023 05:11:01 GMT',\n",
       "   'content-type': 'application/xml',\n",
       "   'transfer-encoding': 'chunked',\n",
       "   'server': 'AmazonS3'},\n",
       "  'RetryAttempts': 0},\n",
       " 'LocationConstraint': 'us-east-2'}"
      ]
     },
     "execution_count": 19,
     "metadata": {},
     "output_type": "execute_result"
    }
   ],
   "source": [
    "source_bucket = 'chat-songs'\n",
    "s3.get_bucket_location(Bucket=source_bucket)"
   ]
  },
  {
   "cell_type": "code",
   "execution_count": 25,
   "id": "d6aec901",
   "metadata": {},
   "outputs": [],
   "source": [
    "s3.download_file(Bucket='chat-songs',Key='billie_jean.wav',Filename='./song')"
   ]
  },
  {
   "cell_type": "code",
   "execution_count": 26,
   "id": "78ecc40d",
   "metadata": {},
   "outputs": [],
   "source": [
    "polly = boto3.client(\"polly\", region_name = 'us-west-2', \n",
    "    aws_access_key_id = ACCESS_KEY,\n",
    "    aws_secret_access_key = SECRET_KEY)"
   ]
  },
  {
   "cell_type": "code",
   "execution_count": 140,
   "id": "bd1235db",
   "metadata": {},
   "outputs": [],
   "source": [
    "from botocore.exceptions import BotoCoreError, ClientError\n",
    "\n",
    "try:\n",
    "    # Request speech synthesis\n",
    "    response = polly.synthesize_speech(Text=\"Hello world!\", OutputFormat=\"mp3\",\n",
    "                                        VoiceId=\"Ivy\")\n",
    "except (BotoCoreError, ClientError) as error:\n",
    "    # The service returned an error, exit gracefully\n",
    "    print(error)\n",
    "    sys.exit(-1)"
   ]
  },
  {
   "cell_type": "code",
   "execution_count": 124,
   "id": "264c3b86",
   "metadata": {},
   "outputs": [],
   "source": [
    "from contextlib import closing\n",
    "\n",
    "with closing(response[\"AudioStream\"]) as stream:\n",
    "    with closing(response[\"AudioStream\"]) as stream:\n",
    "        output = \"./speech.mp3\"\n",
    "\n",
    "        try:\n",
    "            # Open a file for writing the output as a binary stream\n",
    "            with open(output, \"wb\") as file:\n",
    "                file.write(stream.read())\n",
    "        except IOError as error:\n",
    "            # Could not write to file, exit gracefully\n",
    "            print(error)\n",
    "            sys.exit(-1)"
   ]
  },
  {
   "cell_type": "code",
   "execution_count": 90,
   "id": "ab9521bc",
   "metadata": {},
   "outputs": [],
   "source": [
    "description = \"They sit on a fallen tree near the edge of the town, looking \\\n",
    "out at the ruined landscape before them. The sun is setting in the distance, casting \\\n",
    "an orange glow across the sky and the destroyed buildings.\"\n",
    "\n",
    "description = \"They are walking down the empty town streets. \\\n",
    "    The clouds are grey, and it looks like it's about to rain. They walk past a few \\\n",
    "    fishermen selling their wares, a couple of shopkeepers who seem unusually nervous \\\n",
    "    and a police officer who has a very agitated demeanor.\"\n",
    "thomas = \"A man with weathered, lined face from years of working on the \\\n",
    "docks. He\\'s tall and lanky and wears a fisherman's jacket and rubber \\\n",
    "boots.\"\n",
    "\n",
    "evelyn = \"Woman of striking appearance, with piercing blue eyes \\\n",
    "and curly black hair. She's lean and athletic, wearing hiking boots and cargo pants.\"\n",
    "\n",
    "prompt = description.lower().replace('evelyn',evelyn).replace('thomas',thomas)\n",
    "\n",
    "prompt = f'{evelyn} {thomas} {description}'"
   ]
  },
  {
   "cell_type": "code",
   "execution_count": 93,
   "id": "5663dfec",
   "metadata": {},
   "outputs": [
    {
     "data": {
      "text/plain": [
       "\"Woman of striking appearance, with piercing blue eyes and curly black hair. She's lean and athletic, wearing hiking boots and cargo pants. A man with weathered, lined face from years of working on the docks. He's tall and lanky and wears a fisherman's jacket and rubber boots. They are walking down the empty town streets.     The clouds are grey, and it looks like it's about to rain. They walk past a few     fishermen selling their wares, a couple of shopkeepers who seem unusually nervous     and a police officer who has a very agitated demeanor. Animation style\""
      ]
     },
     "execution_count": 93,
     "metadata": {},
     "output_type": "execute_result"
    }
   ],
   "source": [
    "prompt"
   ]
  },
  {
   "cell_type": "code",
   "execution_count": 96,
   "id": "c5a89c72",
   "metadata": {},
   "outputs": [
    {
     "data": {
      "text/plain": [
       "['ugly',\n",
       " 'poorly drawn face',\n",
       " 'out of frame',\n",
       " 'extra limbs',\n",
       " 'disfigured',\n",
       " 'deformed',\n",
       " '((face out of frame))',\n",
       " 'bad anatomy',\n",
       " 'watermark',\n",
       " 'signature',\n",
       " 'cut off',\n",
       " 'low contrast',\n",
       " 'underexposed',\n",
       " 'overexposed']"
      ]
     },
     "execution_count": 96,
     "metadata": {},
     "output_type": "execute_result"
    }
   ],
   "source": [
    "negative_prompt = \"ugly, poorly drawn face, out of frame, extra limbs, disfigured, deformed, ((face out of frame)), bad anatomy, watermark, signature, cut off, low contrast, underexposed, overexposed\"\n",
    "negative_prompt = [n.strip() for n in negative_prompt.split(',')]\n",
    "negative_prompt"
   ]
  },
  {
   "cell_type": "code",
   "execution_count": 110,
   "id": "d209e08f",
   "metadata": {},
   "outputs": [
    {
     "data": {
      "text/plain": [
       "{'defaults': {'styles': [],\n",
       "  'seed': 10,\n",
       "  'subseed': 10,\n",
       "  'restore_faces': True,\n",
       "  'cfg_scale': 13,\n",
       "  'seed_resize_from_h': -1,\n",
       "  'seed_resize_from_w': -1,\n",
       "  'sampler_name': 'Euler a',\n",
       "  'batch_size': 1,\n",
       "  'n_iter': 1,\n",
       "  'steps': 50,\n",
       "  'width': 1280,\n",
       "  'height': 720},\n",
       " 'style': \"kid's cartoon\",\n",
       " 'negative_prompt': ['ugly',\n",
       "  'poorly drawn face',\n",
       "  'out of frame',\n",
       "  'extra limbs',\n",
       "  'disfigured',\n",
       "  'deformed',\n",
       "  '((face out of frame))',\n",
       "  'bad anatomy',\n",
       "  'watermark',\n",
       "  'signature',\n",
       "  'cut off',\n",
       "  'low contrast',\n",
       "  'underexposed',\n",
       "  'overexposed']}"
      ]
     },
     "execution_count": 110,
     "metadata": {},
     "output_type": "execute_result"
    }
   ],
   "source": [
    "path = '../txt2img/lovecraft.yaml'\n",
    "path = '../txt2img/donaldson.yaml'\n",
    "params = {\n",
    "    'defaults':\n",
    "        {\n",
    "      \"styles\": [],\n",
    "      \"seed\": 10,\n",
    "      \"subseed\": 10,\n",
    "      \"restore_faces\": True,\n",
    "      \"cfg_scale\": 13,\n",
    "      \"seed_resize_from_h\": -1,\n",
    "      \"seed_resize_from_w\": -1,\n",
    "      \"sampler_name\": \"Euler a\",\n",
    "      \"batch_size\": 1,\n",
    "      \"n_iter\": 1,\n",
    "      \"steps\": 50,\n",
    "      \"width\": 1280,\n",
    "      \"height\": 720,\n",
    "    },\n",
    "    'style': 'kid\\'s cartoon',\n",
    "    'negative_prompt': negative_prompt\n",
    "}\n",
    "\n",
    "yaml.dump(params, open(path,'w'))\n",
    "params"
   ]
  },
  {
   "cell_type": "code",
   "execution_count": null,
   "id": "781cb321",
   "metadata": {},
   "outputs": [],
   "source": [
    "def makedirs(paths):\n",
    "    for path in paths:\n",
    "        if not os.path.exists(path):\n",
    "            os.makedirs(path)\n"
   ]
  },
  {
   "cell_type": "code",
   "execution_count": 139,
   "id": "5eff6254",
   "metadata": {
    "scrolled": true
   },
   "outputs": [
    {
     "name": "stdout",
     "output_type": "stream",
     "text": [
      "the scene shows she has a striking appearance, with piercing blue eyes and curly black hair. she's lean and athletic, and usually wears practical clothing, like hiking boots and cargo pants. and he has a weathered, lined face from years of working on the docks. he's tall and lanky, and usually wears a fisherman's jacket and rubber boots. walking down the empty town streets. the clouds are grey, and it looks like it's about to rain. they walk past a few fishermen selling their wares, a couple of shopkeepers who seem unusually nervous and a police officer who has a very agitated demeanor., photorealistic\n",
      "the scene shows he has a weathered, lined face from years of working on the docks. he's tall and lanky, and usually wears a fisherman's jacket and rubber boots. and she has a striking appearance, with piercing blue eyes and curly black hair. she's lean and athletic, and usually wears practical clothing, like hiking boots and cargo pants. walking quickly along the sidewalk. the sky is dark and moody, and the streetlights cast deep shadows along their path. the motel is visible in the distance, its neon sign flickering in and out of view., photorealistic\n",
      "the scene shows she has a striking appearance, with piercing blue eyes and curly black hair. she's lean and athletic, and usually wears practical clothing, like hiking boots and cargo pants. and he has a weathered, lined face from years of working on the docks. he's tall and lanky, and usually wears a fisherman's jacket and rubber boots. inside their motel room. they're sitting at a small table, with a map of the town spread out in front of them. the room is dimly lit, with only a single lamp casting a warm glow over the table., photorealistic\n",
      "the scene shows she has a striking appearance, with piercing blue eyes and curly black hair. she's lean and athletic, and usually wears practical clothing, like hiking boots and cargo pants. and he has a weathered, lined face from years of working on the docks. he's tall and lanky, and usually wears a fisherman's jacket and rubber boots. walking through the town, talking to various people. there are flashes of different people's faces and snippets of conversation. the sky is overcast, and the town seems almost deserted., photorealistic\n",
      "the scene shows she has a striking appearance, with piercing blue eyes and curly black hair. she's lean and athletic, and usually wears practical clothing, like hiking boots and cargo pants. and he has a weathered, lined face from years of working on the docks. he's tall and lanky, and usually wears a fisherman's jacket and rubber boots. sitting in a booth at the local diner, talking to she is petite and vivacious, with long curly hair and bright green eyes. she wears colorful clothes and always has a smile on her face.. the diner is empty, and the lighting is dim. she is petite and vivacious, with long curly hair and bright green eyes. she wears colorful clothes and always has a smile on her face. looks around nervously as she speaks, occasionally glancing over her shoulder., photorealistic\n",
      "the scene shows she has a striking appearance, with piercing blue eyes and curly black hair. she's lean and athletic, and usually wears practical clothing, like hiking boots and cargo pants. and he has a weathered, lined face from years of working on the docks. he's tall and lanky, and usually wears a fisherman's jacket and rubber boots. standing outside the diner, talking to she is petite and vivacious, with long curly hair and bright green eyes. she wears colorful clothes and always has a smile on her face.. the sky is dark, with storm clouds gathering in the distance. she is petite and vivacious, with long curly hair and bright green eyes. she wears colorful clothes and always has a smile on her face. looks relieved but still nervous., photorealistic\n",
      "the scene shows she has a striking appearance, with piercing blue eyes and curly black hair. she's lean and athletic, and usually wears practical clothing, like hiking boots and cargo pants. and he has a weathered, lined face from years of working on the docks. he's tall and lanky, and usually wears a fisherman's jacket and rubber boots. standing on the sidewalk outside the diner. the sky is overcast and moody, with a faint streak of lightning lighting up the clouds in the distance., photorealistic\n",
      "the scene shows he has a weathered, lined face from years of working on the docks. he's tall and lanky, and usually wears a fisherman's jacket and rubber boots. and she has a striking appearance, with piercing blue eyes and curly black hair. she's lean and athletic, and usually wears practical clothing, like hiking boots and cargo pants. walking down a deserted street. the sky is dark and ominous, with flashes of lightning illuminating the clouds in the distance., photorealistic\n"
     ]
    }
   ],
   "source": [
    "child_threshold = 14\n",
    "old_threshold = 50\n",
    "\n",
    "import requests\n",
    "\n",
    "import io\n",
    "import base64\n",
    "from PIL import Image, PngImagePlugin\n",
    "from io import BytesIO\n",
    "\n",
    "\n",
    "def prepare_prompt(scene, characters_data):\n",
    "    prompt = scene['SCENE_IMAGE'].lower().strip()\n",
    "    for character in characters_data:\n",
    "        char_descr = character['character_appearance']\n",
    "        gender = character['character_gender'].lower().strip()\n",
    "        char_pronoun = 'he' if gender == 'male' else 'she'\n",
    "\n",
    "        char_first_name = character['character_name'].split()[0].lower().strip()\n",
    "        char_name = character['character_name'].lower().strip()\n",
    "        char_descr = char_descr.lower().strip().replace(char_name,char_pronoun).replace(char_first_name,char_pronoun)\n",
    "\n",
    "        prompt = prompt.replace(char_name,char_descr).replace(char_first_name,char_descr)\n",
    "    return prompt\n",
    "\n",
    "path = '../data/stories/donaldson0/'\n",
    "prompt_data = '../txt2img/donaldson.yaml'\n",
    "path = '../data/stories/lovecraft0/'\n",
    "prompt_data = '../txt2img/lovecraft.yaml'\n",
    "section = 0\n",
    "\n",
    "\n",
    "characters_path  = os.path.join(path, '01_characters.yaml')\n",
    "scene_path = os.path.join(path, '04_1_section_plot.yaml')\n",
    "characters_data = yaml.load(open(characters_path,'r'), Loader=yaml.FullLoader)\n",
    "scene_data = yaml.load(open(scene_path,'r'), Loader=yaml.FullLoader)\n",
    "data = yaml.load(open(prompt_data,'r'), Loader=yaml.FullLoader)\n",
    "params = data['defaults']\n",
    "\n",
    "params['negative_prompt'] = ', '.join(data['negative_prompt']) \n",
    "\n",
    "\n",
    "path_images = os.path.join(path,'images')\n",
    "makedirs([path_images])\n",
    "\n",
    "for i, scene in enumerate(scene_data):\n",
    "    path_image = os.path.join(path_images,f'img_{section}_{i}.jpeg')\n",
    "    prompt = prepare_prompt(scene, characters_data)\n",
    "    params['prompt'] = f\"{prompt}, {data['style']}\"\n",
    "    print(params['prompt'])\n",
    "    if not os.path.exists(path_image):\n",
    "        r = requests.post('http://192.168.0.13:7860/sdapi/v1/txt2img', json = params)\n",
    "        Variable= Image.open(io.BytesIO(base64.b64decode(r.json()['images'][0])))\n",
    "        Variable.save(path_image, format='jpeg')"
   ]
  },
  {
   "cell_type": "code",
   "execution_count": 141,
   "id": "c8e5c254",
   "metadata": {
    "scrolled": true
   },
   "outputs": [
    {
     "data": {
      "text/plain": [
       "{'bg_audio': '../data/bg_sounds/American Idle - RKVC.mp3',\n",
       " 'folder_content': '../data/stock_content/',\n",
       " 'folder_output': '../data/finished_videos/',\n",
       " 'name': 'koala_pics.mp4',\n",
       " 'params': {'resolution': (1280, 720), 'text_fraction': 0.33},\n",
       " 'snips': [{'content': 'koala_1__koala-bear-on-grey-wood-trunk-on-daytime-162339.jpeg',\n",
       "   'stacking': 'left_text',\n",
       "   'text': 'This is a video about a koala'},\n",
       "  {'content': 'sydney_3__sydney-opera-house-sydney-354375.jpg',\n",
       "   'stacking': 'right_text',\n",
       "   'text': 'She was born in Sydney'},\n",
       "  {'content': 'amalfi_2__white-boat-passing-stone-formations-on-ocean-3009067.jpeg',\n",
       "   'stacking': 'left_text',\n",
       "   'text': 'She lived a life in Italy'},\n",
       "  {'content': 'london_4__black-vehicle-at-the-road-1647120.jpeg',\n",
       "   'stacking': 'bottom_text',\n",
       "   'text': 'Then moved to London'},\n",
       "  {'content': 'chicks_1__bird-chicks-baby-chicken-young-bird-349026.jpg',\n",
       "   'stacking': 'left_text',\n",
       "   'text': 'There she met a chicken'},\n",
       "  {'content': 'marriage_0__heart-wedding-marriage-hands-529607.jpg',\n",
       "   'stacking': 'left_text',\n",
       "   'text': [{'vox': 'and, well,'},\n",
       "    {'vox': 'decided to marry the chicken...'}]},\n",
       "  {'content': 'bear_cub_2__bear-cub-tree-trunk-climbing-79838.jpg',\n",
       "   'stacking': 'left_text',\n",
       "   'text': 'Then she had a baby bear'},\n",
       "  {'content': 'baby_2__brothers-siblings-newborn-457237.jpg',\n",
       "   'stacking': 'left_text',\n",
       "   'text': 'Now she will have another one',\n",
       "   'video_post_sst_buffer': 2}]}"
      ]
     },
     "execution_count": 141,
     "metadata": {},
     "output_type": "execute_result"
    }
   ],
   "source": [
    "yaml.load(open('../../endeavor/video_editor/data/video_scripts/koala_pics.yaml','r'), Loader=yaml.FullLoader)"
   ]
  },
  {
   "cell_type": "code",
   "execution_count": 111,
   "id": "9fce5f3b",
   "metadata": {},
   "outputs": [],
   "source": [
    "{\n",
    "    'content': 'sydney_3__sydney-opera-house-sydney-354375.jpg',\n",
    "    'stacking': 'right_text',\n",
    "    'text': 'She was born in Sydney',\n",
    "    'audio': \n",
    "    'video_post_sst_buffer': 2\n",
    "},"
   ]
  },
  {
   "cell_type": "code",
   "execution_count": 177,
   "id": "b860902d",
   "metadata": {},
   "outputs": [],
   "source": [
    "d = dict(\n",
    "    author_name = 'H. P. Lovecraft',\n",
    "    author_style = 'atmospheric, dark, and highly descriptive. His works often revolve around cosmic horror and the unknown, incorporating elements of science fiction and supernatural themes. Lovecraft\\'s prose is characterized by intricate world-building, richly detailed descriptions of otherworldly creatures and settings, and a sense of foreboding and dread that pervades his stories. He frequently employs a first-person narrative, immersing readers in the unsettling perspectives of his characters as they confront the unfathomable horrors of the Lovecraftian universe.',\n",
    "    data_storage = './data/stories',\n",
    "    seed = 1,\n",
    "    bg_audio = 'Voices - Patrick Patrikios.mp3',\n",
    "    story_summary = 'In a secluded rural town, strange occurrences begin to unfold after a meteor crashes nearby. As the townspeople investigate, they discover that the meteor is not what it seems – it is a vessel containing an ancient extraterrestrial entity with unimaginable powers. The entity slowly infiltrates the minds of the residents, causing madness and transforming them into grotesque, tentacled abominations. A group of survivors must unravel the cosmic secrets behind the entity\\'s arrival and find a way to stop its influence before it consumes the entire town and spreads its alien malevolence beyond.',\n",
    "    story_key = 'lovecraft2',\n",
    ")\n",
    "\n",
    "yaml.dump(d,open('lovecraft2.yaml','w'))"
   ]
  },
  {
   "cell_type": "code",
   "execution_count": null,
   "id": "804e9993",
   "metadata": {},
   "outputs": [],
   "source": []
  },
  {
   "cell_type": "code",
   "execution_count": 168,
   "id": "fc93fc6c",
   "metadata": {},
   "outputs": [
    {
     "name": "stderr",
     "output_type": "stream",
     "text": [
      "lovecraft0:::Section 0: 100%|██████████| 10/10 [00:44<00:00,  4.48s/it]\n",
      "lovecraft0:::Section 1: 100%|██████████| 22/22 [00:41<00:00,  1.88s/it]\n",
      "lovecraft0:::Section 2: 100%|██████████| 8/8 [00:34<00:00,  4.26s/it]\n",
      "lovecraft0:::Section 3: 100%|██████████| 9/9 [00:44<00:00,  4.90s/it]\n",
      "lovecraft0:::Section 4: 100%|██████████| 8/8 [00:30<00:00,  3.80s/it]\n"
     ]
    }
   ],
   "source": [
    "import requests\n",
    "from tqdm import tqdm\n",
    "nr_sections = 5\n",
    "story_ref = 'donaldson0'\n",
    "story_ref = 'lovecraft0'\n",
    "all_vids = []\n",
    "for section_id in range(nr_sections):\n",
    "    ls_screens = yaml.load(open(f'../data/stories/{story_ref}/05_0{section_id}_aud_img_scripts.yaml','r'),Loader = yaml.FullLoader)\n",
    "    all_screens = []\n",
    "    for screen in tqdm(ls_screens, desc = f'{story_ref}:::Section {section_id}'):\n",
    "        full_path = screen['txt2img_image'].replace('./data/','../../../md-similacra/data/')\n",
    "        image_path = '/'.join(full_path.split('/')[:-1])\n",
    "        image_name = full_path.split('/')[-1]\n",
    "        data = {\n",
    "          \"user_id\": \"user1234\",\n",
    "          \"file_name\": image_name,\n",
    "          \"input_path\": image_path,\n",
    "          \"output_path\": \"../data/video_summary/assets\",\n",
    "          \"text\": \"Some non-empty text\",\n",
    "          \"video_effects\": \"img\",\n",
    "          \"video_fade_in\": \"0.0\",\n",
    "          \"video_fade_out\": \"0.0\",\n",
    "          \"video_post_stt_buffer\": \"0.5\",\n",
    "          \"resolution\": [\n",
    "            1280,\n",
    "            720\n",
    "          ],\n",
    "          \"vox\": screen['path_audio'].replace('./data/','../../../md-similacra/data/'),\n",
    "          \"text_position\": \"no_text\"\n",
    "        }\n",
    "\n",
    "        r = requests.post('http://localhost:8000/byo_vox_video/', json = data)\n",
    "        all_screens.append(r.json())\n",
    "\n",
    "    \"\"\"    \n",
    "    data = {\n",
    "      \"user_id\": \"user1234\",\n",
    "      \"files_list\": [s['output_file'] for s in all_screens],\n",
    "      \"video_summary_name\": f\"{story_ref}.mp4\",\n",
    "      \"input_path\": \"../data/video_summary/assets\",\n",
    "      \"output_path\": \"../data/video_summary/summaries\",\n",
    "      \"bg_audio_file\": \"../data/bg_sounds/Organic Guitar House - Dyalla.mp3\",\n",
    "      \"bg_audio_volume_frac\": \"0.2\",\n",
    "      \"bg_audio_start_sec\": \"0\"\n",
    "    }\n",
    "\n",
    "    r = requests.post('http://localhost:8000/list_files_summary_video/', json = data)\n",
    "    all_vids.append(r.json())\n",
    "    \"\"\"\n",
    "    all_vids.append(all_screens)"
   ]
  },
  {
   "cell_type": "code",
   "execution_count": 169,
   "id": "72e97f59",
   "metadata": {},
   "outputs": [
    {
     "data": {
      "text/plain": [
       "5"
      ]
     },
     "execution_count": 169,
     "metadata": {},
     "output_type": "execute_result"
    }
   ],
   "source": [
    "len(all_vids)"
   ]
  },
  {
   "cell_type": "code",
   "execution_count": 171,
   "id": "439fd8fd",
   "metadata": {},
   "outputs": [],
   "source": [
    "import itertools\n",
    "\n",
    "def flatten_list(ls):\n",
    "    return list(itertools.chain.from_iterable(ls))\n",
    "\n",
    "\n",
    "if story_ref == 'lovecraft0':\n",
    "    bg_audio = 'Voices - Patrick Patrikios.mp3'\n",
    "elif story_ref == 'donaldson0':\n",
    "    bg_audio = 'Organic Guitar House - Dyalla.mp3'\n",
    "data = {\n",
    "  \"user_id\": \"user1234\",\n",
    "  \"files_list\": [f['output_file'] for f in flatten_list(all_vids)],\n",
    "  \"video_summary_name\": f\"{story_ref}.mp4\",\n",
    "  \"input_path\": \"../data/video_summary/assets\",\n",
    "  \"output_path\": \"../data/video_summary/summaries\",\n",
    "  \"bg_audio_file\": f\"../data/bg_sounds/{bg_audio}\",\n",
    "  \"bg_audio_volume_frac\": \"0.2\",\n",
    "  \"bg_audio_start_sec\": \"0\"\n",
    "}\n",
    "\n",
    "r = requests.post('http://localhost:8000/list_files_summary_video/', json = data)"
   ]
  },
  {
   "cell_type": "code",
   "execution_count": 157,
   "id": "c9b50d51",
   "metadata": {},
   "outputs": [
    {
     "data": {
      "text/plain": [
       "{'user_id': 'user1234',\n",
       " 'files_list': ['img_00_00_e2dbca24b6bed126dabb86a605cad2cf.mp4',\n",
       "  'img_00_00_5cef216d8f1ad2608cb8899c7277e596.mp4',\n",
       "  'img_00_00_a34b91bdb8f8b0b4f5e674a578e0beb6.mp4',\n",
       "  'img_00_00_de6c13e472703f99373231c34bc50fd7.mp4',\n",
       "  'img_00_00_3992de80bff1ad5c43477d6e3cc35810.mp4',\n",
       "  'img_00_01_88115c567e8ab78da532eaec39071579.mp4',\n",
       "  'img_00_01_d7e8242d1f86b3e619ac232ef4b2d3e8.mp4',\n",
       "  'img_00_01_50ba6b74644657c2f735e9f338e0d5a2.mp4',\n",
       "  'img_00_01_53edc49d92687d6160334edd3ffaadef.mp4',\n",
       "  'img_00_01_1485926b0e27c2479910389c6b84c2be.mp4',\n",
       "  'img_00_01_9695b5e76af7010e0d7b739dc819b3c3.mp4',\n",
       "  'img_00_01_1d0a6c0b2818b24c0ac8f4f9516444d8.mp4',\n",
       "  'img_00_01_e14f744723e288d63488798a4e98b6fc.mp4',\n",
       "  'img_00_01_fad700b75c6c4407f404c03e865da380.mp4'],\n",
       " 'video_summary_name': 'my_video.mp4',\n",
       " 'input_path': '../data/video_summary/assets',\n",
       " 'output_path': '../data/video_summary/summaries',\n",
       " 'bg_audio_file': '../data/bg_sounds/Organic Guitar House - Dyalla.mp3',\n",
       " 'bg_audio_volume_frac': '0.4',\n",
       " 'bg_audio_start_sec': '0',\n",
       " 'requestId': 'e76c6f473bcc4050ab76102b52a12011',\n",
       " 'video_hash': '276445eaeb4ebfe945ab99548102e6c5',\n",
       " 'request_hash': '3a8e9ab1f936099a39f27e9fd39d8c3f',\n",
       " 'output_file': 'my_video_3a8e9ab1f936099a39f27e9fd39d8c3f.mp4',\n",
       " 'summary_output_file': '../data/video_summary/summaries/my_video_3a8e9ab1f936099a39f27e9fd39d8c3f.mp4',\n",
       " 'video_duration': '53.790000000000006',\n",
       " 'success_code': '500',\n",
       " 'exception_message': ''}"
      ]
     },
     "execution_count": 157,
     "metadata": {},
     "output_type": "execute_result"
    }
   ],
   "source": [
    "r.json()"
   ]
  },
  {
   "cell_type": "code",
   "execution_count": null,
   "id": "0e31eb1b",
   "metadata": {},
   "outputs": [],
   "source": []
  }
 ],
 "metadata": {
  "kernelspec": {
   "display_name": "tse",
   "language": "python",
   "name": "tse"
  },
  "language_info": {
   "codemirror_mode": {
    "name": "ipython",
    "version": 3
   },
   "file_extension": ".py",
   "mimetype": "text/x-python",
   "name": "python",
   "nbconvert_exporter": "python",
   "pygments_lexer": "ipython3",
   "version": "3.7.10"
  }
 },
 "nbformat": 4,
 "nbformat_minor": 5
}
