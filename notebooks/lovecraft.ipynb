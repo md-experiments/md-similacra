{
 "cells": [
  {
   "cell_type": "code",
   "execution_count": 1,
   "id": "b28d7339",
   "metadata": {},
   "outputs": [],
   "source": [
    "%load_ext autoreload\n",
    "import os\n",
    "\n",
    "os.chdir(os.path.abspath(os.curdir).replace('notebooks',''))"
   ]
  },
  {
   "cell_type": "code",
   "execution_count": 2,
   "id": "42ae6748",
   "metadata": {},
   "outputs": [],
   "source": [
    "\n",
    "from langchain.output_parsers import StructuredOutputParser, ResponseSchema\n",
    "from langchain.prompts import ChatPromptTemplate, HumanMessagePromptTemplate\n",
    "from langchain.llms import OpenAI\n",
    "from langchain.chat_models import ChatOpenAI\n",
    "import pandas as pd\n",
    "import json\n"
   ]
  },
  {
   "cell_type": "code",
   "execution_count": 3,
   "id": "324346f0",
   "metadata": {},
   "outputs": [],
   "source": [
    "import os\n",
    "with open('openai.key','r') as f:\n",
    "    openai_api_key = f.read()\n",
    "os.environ['OPENAI_API_KEY'] = openai_api_key "
   ]
  },
  {
   "cell_type": "code",
   "execution_count": 23,
   "id": "4440dedb",
   "metadata": {},
   "outputs": [],
   "source": [
    "# Temp = 0 so that we get clean information without a lot of creativity\n",
    "chat_model = ChatOpenAI(temperature=0.9, openai_api_key=openai_api_key)"
   ]
  },
  {
   "cell_type": "code",
   "execution_count": 35,
   "id": "8db1f330",
   "metadata": {},
   "outputs": [
    {
     "name": "stdout",
     "output_type": "stream",
     "text": [
      "The output should be a markdown code snippet formatted in the following schema, including the leading and trailing \"\\`\\`\\`json\" and \"\\`\\`\\`\":\n",
      "\n",
      "```json\n",
      "{\n",
      "\t\"character_name\": string  // This is the name of the character\n",
      "\t\"character_age\": string  // This is the age of the character\n",
      "\t\"character_gender\": string  // Character gender: male, female, non-binary\n",
      "\t\"character_traits\": string  // This briefly describes the character profile, their background, traits, habits and goals\n",
      "\t\"character_role\": string  // This is the role they play in the story: are they central or secondary, helping the protagonist, ignoring, thwarting or deceiving them, do they grow and how\n",
      "}\n",
      "```\n"
     ]
    }
   ],
   "source": [
    "\n",
    "\n",
    "print (output_parser.get_format_instructions())"
   ]
  },
  {
   "cell_type": "code",
   "execution_count": 36,
   "id": "0a7066ba",
   "metadata": {},
   "outputs": [],
   "source": [
    "author_name = 'H. P. Lovecraft'\n",
    "\n",
    "author_style = 'described as atmospheric, dark, and highly descriptive. His works often revolve around cosmic horror and the unknown, incorporating elements of science fiction and supernatural themes. Lovecraft\\'s prose is characterized by intricate world-building, richly detailed descriptions of otherworldly creatures and settings, and a sense of foreboding and dread that pervades his stories. He frequently employs a first-person narrative, immersing readers in the unsettling perspectives of his characters as they confront the unfathomable horrors of the Lovecraftian universe.'\n",
    "\n",
    "story_summary = 'A small coastal town is plagued by a series of strange disappearances. As the townsfolk investigate, they uncover a cult worshipping an ancient entity that dwells in the depths of the nearby forest. The cult seeks to awaken the deity, intending to bring about the end of the world. The townspeople must unravel the secrets of the cult before it\\'s too late.'"
   ]
  },
  {
   "cell_type": "code",
   "execution_count": null,
   "id": "9353e0d1",
   "metadata": {},
   "outputs": [],
   "source": []
  },
  {
   "cell_type": "code",
   "execution_count": 113,
   "id": "c5f7bc7d",
   "metadata": {},
   "outputs": [
    {
     "data": {
      "text/plain": [
       "\"A small coastal town is plagued by a series of strange disappearances. As the townsfolk investigate, they uncover a cult worshipping an ancient entity that dwells in the depths of the nearby forest. The cult seeks to awaken the deity, intending to bring about the end of the world. The townspeople must unravel the secrets of the cult before it's too late.\""
      ]
     },
     "execution_count": 113,
     "metadata": {},
     "output_type": "execute_result"
    }
   ],
   "source": [
    "story_summary"
   ]
  },
  {
   "cell_type": "code",
   "execution_count": 111,
   "id": "98ee225e",
   "metadata": {},
   "outputs": [],
   "source": [
    "data_storage = './data/stories'\n",
    "existing_story = 'lovecraft0'\n",
    "\n",
    "path_summary = os.path.join(data_storage,existing_story,'00_story_summary.txt')\n",
    "\n",
    "with open(path_summary,'w') as f:\n",
    "    f.write(story_summary)"
   ]
  },
  {
   "cell_type": "code",
   "execution_count": 112,
   "id": "f8f4ce92",
   "metadata": {},
   "outputs": [],
   "source": [
    "with open(path_summary,'r') as f:\n",
    "    story_summary = f.read()"
   ]
  },
  {
   "cell_type": "code",
   "execution_count": 38,
   "id": "26ff2828",
   "metadata": {},
   "outputs": [
    {
     "name": "stderr",
     "output_type": "stream",
     "text": [
      "Retrying langchain.chat_models.openai.ChatOpenAI.completion_with_retry.<locals>._completion_with_retry in 1.0 seconds as it raised Timeout: Request timed out: HTTPSConnectionPool(host='api.openai.com', port=443): Read timed out. (read timeout=600).\n"
     ]
    }
   ],
   "source": [
    "output = chat_model(_input.to_messages())\n",
    "\n",
    "if \"```json\" in output.content:\n",
    "    json_string = output.content.split(\"```json\")[1].replace('```','').strip()\n",
    "else:\n",
    "    json_string = output.content"
   ]
  },
  {
   "cell_type": "code",
   "execution_count": 27,
   "id": "9dbc8c0b",
   "metadata": {},
   "outputs": [],
   "source": [
    "\n",
    "\n",
    "\n"
   ]
  },
  {
   "cell_type": "code",
   "execution_count": 28,
   "id": "8a437d8a",
   "metadata": {},
   "outputs": [
    {
     "name": "stdout",
     "output_type": "stream",
     "text": [
      "There are 1 message(s)\n",
      "Type: <class 'langchain.schema.HumanMessage'>\n",
      "---------------------------\n",
      "\n",
      "You are a storyteller who writes and is inspired by H. P. Lovecraft and you write stories in their style. \n",
      "Their style is typically described as described as atmospheric, dark, and highly descriptive. His works often revolve around cosmic horror and the unknown, incorporating elements of science fiction and supernatural themes. Lovecraft's prose is characterized by intricate world-building, richly detailed descriptions of otherworldly creatures and settings, and a sense of foreboding and dread that pervades his stories. He frequently employs a first-person narrative, immersing readers in the unsettling perspectives of his characters as they confront the unfathomable horrors of the Lovecraftian universe.. You are writing a story about A small coastal town is plagued by a series of strange disappearances. As the townsfolk investigate, they uncover a cult worshipping an ancient entity that dwells in the depths of the nearby forest. The cult seeks to awaken the deity, intending to bring about the end of the world. The townspeople must unravel the secrets of the cult before it's too late.\n",
      "Please create a plot for a short story by describing a series of sections of the story.\n",
      "\n",
      "The output should be a markdown code snippet formatted in the following schema, including the leading and trailing \"\\`\\`\\`json\" and \"\\`\\`\\`\":\n",
      "\n",
      "```json\n",
      "{\n",
      "\t\"section_name\": string  // This is the name of the section of the story\n",
      "\t\"section_description\": string  // This is a short one sentence description of what happens in this section of the story\n",
      "\t\"characters\": string  // This is a list of the characters mentioned in the story\n",
      "}\n",
      "```\n",
      "\n",
      "Wrap your final output with closed and open brackets (a list of json objects)\n",
      "\n",
      "YOUR RESPONSE:\n",
      "\n"
     ]
    }
   ],
   "source": [
    "\n",
    "\n",
    "print (f\"There are {len(_input.messages)} message(s)\")\n",
    "print (f\"Type: {type(_input.messages[0])}\")\n",
    "print (\"---------------------------\")\n",
    "print (_input.messages[0].content)"
   ]
  },
  {
   "cell_type": "code",
   "execution_count": 29,
   "id": "4f7648d6",
   "metadata": {},
   "outputs": [
    {
     "name": "stderr",
     "output_type": "stream",
     "text": [
      "Retrying langchain.chat_models.openai.ChatOpenAI.completion_with_retry.<locals>._completion_with_retry in 1.0 seconds as it raised Timeout: Request timed out: HTTPSConnectionPool(host='api.openai.com', port=443): Read timed out. (read timeout=600).\n"
     ]
    }
   ],
   "source": [
    "output = chat_model(_input.to_messages())\n",
    "\n",
    "if \"```json\" in output.content:\n",
    "    json_string = output.content.split(\"```json\")[1].replace('```','').strip()\n",
    "else:\n",
    "    json_string = output.content\n"
   ]
  },
  {
   "cell_type": "code",
   "execution_count": 40,
   "id": "6ca1bf05",
   "metadata": {},
   "outputs": [],
   "source": [
    "characters_json = json.loads(json_string)\n",
    "\n"
   ]
  },
  {
   "cell_type": "code",
   "execution_count": 58,
   "id": "dc5c7ff7",
   "metadata": {},
   "outputs": [],
   "source": [
    "def character_builder(char_dict):\n",
    "    return f'Name: {char_dict[\"character_name\"]} ({char_dict[\"character_age\"]}), {char_dict[\"character_gender\"]}' \\\n",
    "        f' Role: {char_dict[\"character_role\"]}, Bio: {char_dict[\"character_traits\"]}\\n'\n",
    "\n",
    "\n"
   ]
  },
  {
   "cell_type": "code",
   "execution_count": 62,
   "id": "34490e1b",
   "metadata": {},
   "outputs": [
    {
     "name": "stdout",
     "output_type": "stream",
     "text": [
      "317\n",
      "Name: Adam Cross (45), male Role: central character, helping the protagonist, Bio: Adam is the local Sheriff of the small coastal town. He's hardworking, determined, and highly protective of the people in his town. He's been investigating the strange disappearances and is determined to get to the bottom of it.\n",
      "\n",
      "Name: Alice Chen (28), female Role: central character, helping the protagonist, Bio: Alice is a curious journalist investigating the strange happenings in the town. She is brave and headstrong, sometimes recklessly so. She's determined to uncover the truth, even if it means putting herself in danger.\n",
      "\n",
      "Name: Josephine Blake (60), female Role: secondary character, helping the protagonist, Bio: Josephine is the oldest resident of the town and the owner of the local bookstore. She's well-read and knowledgeable about the occult. She's a bit eccentric and has a strange fascination with the strange happenings in the town.\n",
      "\n",
      "Name: Ethan Davis (32), male Role: secondary character, helping the protagonist, Bio: Ethan is a fisherman who's lived in the town his whole life. He's somewhat reserved and doesn't speak much unless he has something important to say. He's seen and heard strange things out at sea that he can't explain. He's helpful to the protagonists but is hesitant to get involved in anything too dangerous.\n",
      "\n",
      "Name: Nate Holt (25), male Role: secondary character, obstructing the protagonist, Bio: Nate is a young and reckless member of the cult. He's been brought up in the cult his whole life, and it's all he knows. He's eager to please the elders and is willing to do anything to serve the entity they worship.\n",
      "\n",
      "Name: Evelyn Kingston (30), female Role: secondary character, obstructing the protagonist, Bio: Evelyn is one of the elders of the cult. She's intelligent and calculating and always one step ahead of the protagonists. She's highly committed to the cult's cause and will do anything to ensure the entity is awakened.\n",
      "\n"
     ]
    }
   ],
   "source": [
    "character_descriptions = '\\n'.join([character_builder(js) for js in characters_json])\n",
    "\n",
    "print(len(character_descriptions.split()))\n",
    "print(character_descriptions)"
   ]
  },
  {
   "cell_type": "code",
   "execution_count": 60,
   "id": "5047a73f",
   "metadata": {},
   "outputs": [
    {
     "name": "stdout",
     "output_type": "stream",
     "text": [
      "The output should be a markdown code snippet formatted in the following schema, including the leading and trailing \"\\`\\`\\`json\" and \"\\`\\`\\`\":\n",
      "\n",
      "```json\n",
      "{\n",
      "\t\"section_name\": string  // This is the name of the section of the story\n",
      "\t\"section_description\": string  // This is a short one sentence description of what happens in this section of the story\n",
      "\t\"characters\": string  // This is a comma separated list of the characters who take part in each section of the story\n",
      "}\n",
      "```\n"
     ]
    }
   ],
   "source": [
    "# How you would like your reponse structured. This is basically a fancy prompt template\n",
    "\n",
    "print (output_parser.get_format_instructions())"
   ]
  },
  {
   "cell_type": "code",
   "execution_count": 63,
   "id": "06e234dd",
   "metadata": {
    "scrolled": true
   },
   "outputs": [
    {
     "name": "stdout",
     "output_type": "stream",
     "text": [
      "There are 1 message(s)\n",
      "Type: <class 'langchain.schema.HumanMessage'>\n",
      "---------------------------\n",
      "\n",
      "You are a storyteller who writes and is inspired by H. P. Lovecraft and you write stories in their style. \n",
      "Their style is typically described as described as atmospheric, dark, and highly descriptive. His works often revolve around cosmic horror and the unknown, incorporating elements of science fiction and supernatural themes. Lovecraft's prose is characterized by intricate world-building, richly detailed descriptions of otherworldly creatures and settings, and a sense of foreboding and dread that pervades his stories. He frequently employs a first-person narrative, immersing readers in the unsettling perspectives of his characters as they confront the unfathomable horrors of the Lovecraftian universe.. \n",
      "\n",
      "This is the story summary: \n",
      "A small coastal town is plagued by a series of strange disappearances. As the townsfolk investigate, they uncover a cult worshipping an ancient entity that dwells in the depths of the nearby forest. The cult seeks to awaken the deity, intending to bring about the end of the world. The townspeople must unravel the secrets of the cult before it's too late.\n",
      "\n",
      "These are the characters in the story:\n",
      "Name: Adam Cross (45), male Role: central character, helping the protagonist, Bio: Adam is the local Sheriff of the small coastal town. He's hardworking, determined, and highly protective of the people in his town. He's been investigating the strange disappearances and is determined to get to the bottom of it.\n",
      "\n",
      "Name: Alice Chen (28), female Role: central character, helping the protagonist, Bio: Alice is a curious journalist investigating the strange happenings in the town. She is brave and headstrong, sometimes recklessly so. She's determined to uncover the truth, even if it means putting herself in danger.\n",
      "\n",
      "Name: Josephine Blake (60), female Role: secondary character, helping the protagonist, Bio: Josephine is the oldest resident of the town and the owner of the local bookstore. She's well-read and knowledgeable about the occult. She's a bit eccentric and has a strange fascination with the strange happenings in the town.\n",
      "\n",
      "Name: Ethan Davis (32), male Role: secondary character, helping the protagonist, Bio: Ethan is a fisherman who's lived in the town his whole life. He's somewhat reserved and doesn't speak much unless he has something important to say. He's seen and heard strange things out at sea that he can't explain. He's helpful to the protagonists but is hesitant to get involved in anything too dangerous.\n",
      "\n",
      "Name: Nate Holt (25), male Role: secondary character, obstructing the protagonist, Bio: Nate is a young and reckless member of the cult. He's been brought up in the cult his whole life, and it's all he knows. He's eager to please the elders and is willing to do anything to serve the entity they worship.\n",
      "\n",
      "Name: Evelyn Kingston (30), female Role: secondary character, obstructing the protagonist, Bio: Evelyn is one of the elders of the cult. She's intelligent and calculating and always one step ahead of the protagonists. She's highly committed to the cult's cause and will do anything to ensure the entity is awakened.\n",
      "\n",
      "\n",
      "Please imagine a set of characters to take part in the story and add their descritions\n",
      "\n",
      "The output should be a markdown code snippet formatted in the following schema, including the leading and trailing \"\\`\\`\\`json\" and \"\\`\\`\\`\":\n",
      "\n",
      "```json\n",
      "{\n",
      "\t\"section_name\": string  // This is the name of the section of the story\n",
      "\t\"section_description\": string  // This is a short one sentence description of what happens in this section of the story\n",
      "\t\"characters\": string  // This is a comma separated list of the characters who take part in each section of the story\n",
      "}\n",
      "```\n",
      "\n",
      "Wrap your final output with closed and open brackets (a list of json objects)\n",
      "\n",
      "YOUR RESPONSE:\n",
      "\n"
     ]
    }
   ],
   "source": [
    "\n",
    "\n",
    "_input = prompt.format_prompt(\n",
    "    author_name = author_name, \n",
    "    author_style = author_style,\n",
    "    story_summary = story_summary,\n",
    "    character_descriptions = character_descriptions\n",
    ")\n",
    "\n",
    "\n",
    "print (f\"There are {len(_input.messages)} message(s)\")\n",
    "print (f\"Type: {type(_input.messages[0])}\")\n",
    "print (\"---------------------------\")\n",
    "print (_input.messages[0].content)"
   ]
  },
  {
   "cell_type": "code",
   "execution_count": 64,
   "id": "8202fe2d",
   "metadata": {},
   "outputs": [
    {
     "name": "stderr",
     "output_type": "stream",
     "text": [
      "Retrying langchain.chat_models.openai.ChatOpenAI.completion_with_retry.<locals>._completion_with_retry in 1.0 seconds as it raised Timeout: Request timed out: HTTPSConnectionPool(host='api.openai.com', port=443): Read timed out. (read timeout=600).\n"
     ]
    }
   ],
   "source": [
    "output = chat_model(_input.to_messages())\n",
    "\n",
    "if \"```json\" in output.content:\n",
    "    json_string = output.content.split(\"```json\")[1].replace('```','').strip()\n",
    "else:\n",
    "    json_string = output.content"
   ]
  },
  {
   "cell_type": "code",
   "execution_count": 65,
   "id": "ea6fe9a1",
   "metadata": {},
   "outputs": [
    {
     "data": {
      "text/plain": [
       "[{'section_name': 'Introduction',\n",
       "  'section_description': 'The town is introduced along with the disappearances',\n",
       "  'characters': 'Adam Cross, Alice Chen'},\n",
       " {'section_name': 'The First Clues',\n",
       "  'section_description': 'The protagonists start their investigation and meet Josephine',\n",
       "  'characters': 'Adam Cross, Alice Chen, Josephine Blake'},\n",
       " {'section_name': \"The Fisherman's Tales\",\n",
       "  'section_description': 'Ethan shares his knowledge of strange happenings at sea',\n",
       "  'characters': 'Adam Cross, Ethan Davis'},\n",
       " {'section_name': 'Uncovering the Cult',\n",
       "  'section_description': 'The protagonists discover the cult and their intentions',\n",
       "  'characters': 'Adam Cross, Alice Chen, Josephine Blake, Nate Holt, Evelyn Kingston'},\n",
       " {'section_name': 'Preparations and Confrontations',\n",
       "  'section_description': \"The protagonists prepare to stop the cult's plans and face their biggest challenges\",\n",
       "  'characters': 'Adam Cross, Alice Chen, Josephine Blake, Ethan Davis, Nate Holt, Evelyn Kingston'},\n",
       " {'section_name': 'The Final Showdown',\n",
       "  'section_description': 'The protagonists confront the cult and the entity they worship',\n",
       "  'characters': 'Adam Cross, Alice Chen, Josephine Blake, Ethan Davis, Nate Holt, Evelyn Kingston'}]"
      ]
     },
     "execution_count": 65,
     "metadata": {},
     "output_type": "execute_result"
    }
   ],
   "source": [
    "characters_json = json.loads(json_string)\n",
    "\n",
    "characters_json"
   ]
  },
  {
   "cell_type": "code",
   "execution_count": 110,
   "id": "ab4e8bc7",
   "metadata": {},
   "outputs": [
    {
     "data": {
      "text/plain": [
       "[{'section_name': 'Introduction',\n",
       "  'section_description': 'The town is introduced along with the disappearances',\n",
       "  'characters': 'Adam Cross, Alice Chen'},\n",
       " {'section_name': 'The First Clues',\n",
       "  'section_description': 'The protagonists start their investigation and meet Josephine',\n",
       "  'characters': 'Adam Cross, Alice Chen, Josephine Blake'},\n",
       " {'section_name': \"The Fisherman's Tales\",\n",
       "  'section_description': 'Ethan shares his knowledge of strange happenings at sea',\n",
       "  'characters': 'Adam Cross, Ethan Davis'},\n",
       " {'section_name': 'Uncovering the Cult',\n",
       "  'section_description': 'The protagonists discover the cult and their intentions',\n",
       "  'characters': 'Adam Cross, Alice Chen, Josephine Blake, Nate Holt, Evelyn Kingston'},\n",
       " {'section_name': 'Preparations and Confrontations',\n",
       "  'section_description': \"The protagonists prepare to stop the cult's plans and face their biggest challenges\",\n",
       "  'characters': 'Adam Cross, Alice Chen, Josephine Blake, Ethan Davis, Nate Holt, Evelyn Kingston'},\n",
       " {'section_name': 'The Final Showdown',\n",
       "  'section_description': 'The protagonists confront the cult and the entity they worship',\n",
       "  'characters': 'Adam Cross, Alice Chen, Josephine Blake, Ethan Davis, Nate Holt, Evelyn Kingston'}]"
      ]
     },
     "execution_count": 110,
     "metadata": {},
     "output_type": "execute_result"
    }
   ],
   "source": [
    "characters_json"
   ]
  },
  {
   "cell_type": "code",
   "execution_count": 72,
   "id": "cf952e50",
   "metadata": {},
   "outputs": [],
   "source": [
    "i = 0\n",
    "\n",
    "section_name = characters_json[i]['section_name']\n",
    "section_description = characters_json[i]['section_description']\n",
    "mentioned_characters = characters_json[i]['characters']"
   ]
  },
  {
   "cell_type": "code",
   "execution_count": 73,
   "id": "fc291a3f",
   "metadata": {},
   "outputs": [
    {
     "name": "stdout",
     "output_type": "stream",
     "text": [
      "There are 1 message(s)\n",
      "Type: <class 'langchain.schema.HumanMessage'>\n",
      "---------------------------\n",
      "\n",
      "You are a storyteller who writes and is inspired by H. P. Lovecraft and you write stories in their style. \n",
      "Their style is typically described as described as atmospheric, dark, and highly descriptive. His works often revolve around cosmic horror and the unknown, incorporating elements of science fiction and supernatural themes. Lovecraft's prose is characterized by intricate world-building, richly detailed descriptions of otherworldly creatures and settings, and a sense of foreboding and dread that pervades his stories. He frequently employs a first-person narrative, immersing readers in the unsettling perspectives of his characters as they confront the unfathomable horrors of the Lovecraftian universe.. \n",
      "\n",
      "This is the story summary: \n",
      "A small coastal town is plagued by a series of strange disappearances. As the townsfolk investigate, they uncover a cult worshipping an ancient entity that dwells in the depths of the nearby forest. The cult seeks to awaken the deity, intending to bring about the end of the world. The townspeople must unravel the secrets of the cult before it's too late.\n",
      "\n",
      "These are the characters in the story:\n",
      "Name: Adam Cross (45), male Role: central character, helping the protagonist, Bio: Adam is the local Sheriff of the small coastal town. He's hardworking, determined, and highly protective of the people in his town. He's been investigating the strange disappearances and is determined to get to the bottom of it.\n",
      "\n",
      "Name: Alice Chen (28), female Role: central character, helping the protagonist, Bio: Alice is a curious journalist investigating the strange happenings in the town. She is brave and headstrong, sometimes recklessly so. She's determined to uncover the truth, even if it means putting herself in danger.\n",
      "\n",
      "Name: Josephine Blake (60), female Role: secondary character, helping the protagonist, Bio: Josephine is the oldest resident of the town and the owner of the local bookstore. She's well-read and knowledgeable about the occult. She's a bit eccentric and has a strange fascination with the strange happenings in the town.\n",
      "\n",
      "Name: Ethan Davis (32), male Role: secondary character, helping the protagonist, Bio: Ethan is a fisherman who's lived in the town his whole life. He's somewhat reserved and doesn't speak much unless he has something important to say. He's seen and heard strange things out at sea that he can't explain. He's helpful to the protagonists but is hesitant to get involved in anything too dangerous.\n",
      "\n",
      "Name: Nate Holt (25), male Role: secondary character, obstructing the protagonist, Bio: Nate is a young and reckless member of the cult. He's been brought up in the cult his whole life, and it's all he knows. He's eager to please the elders and is willing to do anything to serve the entity they worship.\n",
      "\n",
      "Name: Evelyn Kingston (30), female Role: secondary character, obstructing the protagonist, Bio: Evelyn is one of the elders of the cult. She's intelligent and calculating and always one step ahead of the protagonists. She's highly committed to the cult's cause and will do anything to ensure the entity is awakened.\n",
      "\n",
      "\n",
      "Write part of the story titled: Introduction, with the description: The town is introduced along with the disappearances\n",
      "This part also mentions these characters Adam Cross, Alice Chen\n",
      "\n",
      "YOUR RESPONSE:\n",
      "\n"
     ]
    }
   ],
   "source": [
    "\n",
    "_input = prompt.format_prompt(\n",
    "    author_name = author_name, \n",
    "    author_style = author_style,\n",
    "    story_summary = story_summary,\n",
    "    character_descriptions = character_descriptions,\n",
    "    section_name = section_name,\n",
    "    section_description = section_description,\n",
    "    mentioned_characters = mentioned_characters\n",
    "    \n",
    ")\n",
    "\n",
    "\n",
    "print (f\"There are {len(_input.messages)} message(s)\")\n",
    "print (f\"Type: {type(_input.messages[0])}\")\n",
    "print (\"---------------------------\")\n",
    "print (_input.messages[0].content)"
   ]
  },
  {
   "cell_type": "code",
   "execution_count": 75,
   "id": "6a037df3",
   "metadata": {},
   "outputs": [
    {
     "name": "stderr",
     "output_type": "stream",
     "text": [
      "Retrying langchain.chat_models.openai.ChatOpenAI.completion_with_retry.<locals>._completion_with_retry in 1.0 seconds as it raised RateLimitError: The server had an error while processing your request. Sorry about that!.\n"
     ]
    }
   ],
   "source": [
    "output = chat_model(_input.to_messages())\n",
    "\n",
    "if \"```json\" in output.content:\n",
    "    json_string = output.content.split(\"```json\")[1].replace('```','').strip()\n",
    "else:\n",
    "    json_string = output.content\n"
   ]
  },
  {
   "cell_type": "code",
   "execution_count": 104,
   "id": "027754b9",
   "metadata": {},
   "outputs": [],
   "source": [
    "section_list = ['The small coastal town of Kingsport was a picturesque and idyllic place, nestled on the edge of the ocean and surrounded by lush forests. But beneath the surface, something sinister was brewing. Over the past few weeks, a string of strange disappearances had rocked the town, leaving residents shaken and fearful.', 'Sheriff Adam Cross had been working tirelessly to investigate the disappearances, but with no clues or leads, he was at a loss. That was until Alice Chen, a young and curious journalist, arrived in town asking questions and stirring up trouble.', 'As Adam and Alice began to uncover the truth behind the disappearances, they realized that something much larger and more dangerous was at play. A cult worshipping an ancient entity had taken root in the forest, and they were seeking to awaken it, intending to bring about the end of the world.', 'Adam and Alice knew they had to act fast to stop the cult and save the town from destruction. But as they delved deeper into the darkness, they realized that the lines between good and evil were not as clear-cut as they had once thought. The horrors they were about to face would push them to their limits and threaten to consume them both.']\n"
   ]
  },
  {
   "cell_type": "code",
   "execution_count": null,
   "id": "ec60a9f4",
   "metadata": {},
   "outputs": [],
   "source": []
  },
  {
   "cell_type": "code",
   "execution_count": 116,
   "id": "2e36cbce",
   "metadata": {},
   "outputs": [],
   "source": [
    "story_so_far = section_list[0]\n",
    "this_scene = [f\"Scene {i}: {s}\\n\\n\" for i, s in enumerate(section_list[1:])]\n",
    "\n",
    "this_scene = ''.join(this_scene)"
   ]
  },
  {
   "cell_type": "code",
   "execution_count": 130,
   "id": "587524d9",
   "metadata": {},
   "outputs": [
    {
     "data": {
      "text/plain": [
       "[{'scene_content': \"NARRATOR: Sheriff Adam Cross was pacing back and forth in his office, frustration etched on his face. \\nADAM CROSS: (sighs) I don't know what else to do. I've searched the town, talked to witnesses, looked into every possible lead and still nothing. \\nJust then, there was a knock on the door. \\nADAM CROSS: Come in. \\nAlice Chen walked in, an air of confidence about her. \\nALICE CHEN: Sheriff Cross, I'm Alice Chen from the Arkham Gazette. I'm here investigating the disappearances in your town. \\nADAM CROSS: (skeptical) And how do I know I can trust you? \\nALICE CHEN: You don't. But I can tell you that I'm not leaving until I get the answers I need. And maybe I can help you in the process. \\nADAM CROSS: (pauses) Alright. But be careful. This town is not what it seems. \\nNARRATOR: With that, a bond was formed between the Sheriff and the journalist, two people determined to uncover the truth.\",\n",
       "  'scene_image': 'An image of Adam Cross pacing in his office while Alice Chen walks in with a determined look on her face',\n",
       "  'scene_audio': \"A tense and ominous music score plays in the background, building up to Alice's entrance\"}]"
      ]
     },
     "execution_count": 130,
     "metadata": {},
     "output_type": "execute_result"
    }
   ],
   "source": [
    "json.loads(json_string)"
   ]
  },
  {
   "cell_type": "code",
   "execution_count": 137,
   "id": "62070a9d",
   "metadata": {},
   "outputs": [],
   "source": [
    "import yaml\n",
    "yaml.dump({'a':23,'b':334},open('./ad.yaml','w'), )"
   ]
  },
  {
   "cell_type": "code",
   "execution_count": 119,
   "id": "ce93a6a6",
   "metadata": {},
   "outputs": [
    {
     "name": "stdout",
     "output_type": "stream",
     "text": [
      "There are 1 message(s)\n",
      "Type: <class 'langchain.schema.HumanMessage'>\n",
      "---------------------------\n",
      "\n",
      "You are a scriptwriter who writes and is inspired by H. P. Lovecraft and you write stories in their style. \n",
      "Their style is typically described as described as atmospheric, dark, and highly descriptive. His works often revolve around cosmic horror and the unknown, incorporating elements of science fiction and supernatural themes. Lovecraft's prose is characterized by intricate world-building, richly detailed descriptions of otherworldly creatures and settings, and a sense of foreboding and dread that pervades his stories. He frequently employs a first-person narrative, immersing readers in the unsettling perspectives of his characters as they confront the unfathomable horrors of the Lovecraftian universe.. \n",
      "\n",
      "This is the story summary: \n",
      "A small coastal town is plagued by a series of strange disappearances. As the townsfolk investigate, they uncover a cult worshipping an ancient entity that dwells in the depths of the nearby forest. The cult seeks to awaken the deity, intending to bring about the end of the world. The townspeople must unravel the secrets of the cult before it's too late.\n",
      "\n",
      "These are the characters in the story:\n",
      "Name: Adam Cross (45), male Role: central character, helping the protagonist, Bio: Adam is the local Sheriff of the small coastal town. He's hardworking, determined, and highly protective of the people in his town. He's been investigating the strange disappearances and is determined to get to the bottom of it.\n",
      "\n",
      "Name: Alice Chen (28), female Role: central character, helping the protagonist, Bio: Alice is a curious journalist investigating the strange happenings in the town. She is brave and headstrong, sometimes recklessly so. She's determined to uncover the truth, even if it means putting herself in danger.\n",
      "\n",
      "Name: Josephine Blake (60), female Role: secondary character, helping the protagonist, Bio: Josephine is the oldest resident of the town and the owner of the local bookstore. She's well-read and knowledgeable about the occult. She's a bit eccentric and has a strange fascination with the strange happenings in the town.\n",
      "\n",
      "Name: Ethan Davis (32), male Role: secondary character, helping the protagonist, Bio: Ethan is a fisherman who's lived in the town his whole life. He's somewhat reserved and doesn't speak much unless he has something important to say. He's seen and heard strange things out at sea that he can't explain. He's helpful to the protagonists but is hesitant to get involved in anything too dangerous.\n",
      "\n",
      "Name: Nate Holt (25), male Role: secondary character, obstructing the protagonist, Bio: Nate is a young and reckless member of the cult. He's been brought up in the cult his whole life, and it's all he knows. He's eager to please the elders and is willing to do anything to serve the entity they worship.\n",
      "\n",
      "Name: Evelyn Kingston (30), female Role: secondary character, obstructing the protagonist, Bio: Evelyn is one of the elders of the cult. She's intelligent and calculating and always one step ahead of the protagonists. She's highly committed to the cult's cause and will do anything to ensure the entity is awakened.\n",
      "\n",
      "\n",
      "Story titled: Introduction, with the description: The town is introduced along with the disappearances\n",
      "This part also mentions these characters Adam Cross, Alice Chen.\n",
      "This is the story so far The small coastal town of Kingsport was a picturesque and idyllic place, nestled on the edge of the ocean and surrounded by lush forests. But beneath the surface, something sinister was brewing. Over the past few weeks, a string of strange disappearances had rocked the town, leaving residents shaken and fearful..\n",
      "\n",
      "You are writing the script for teh scenes within this part of the story. \n",
      "This is the description of the scenes\n",
      "Scene 0: Sheriff Adam Cross had been working tirelessly to investigate the disappearances, but with no clues or leads, he was at a loss. That was until Alice Chen, a young and curious journalist, arrived in town asking questions and stirring up trouble.\n",
      "\n",
      "Scene 1: As Adam and Alice began to uncover the truth behind the disappearances, they realized that something much larger and more dangerous was at play. A cult worshipping an ancient entity had taken root in the forest, and they were seeking to awaken it, intending to bring about the end of the world.\n",
      "\n",
      "Scene 2: Adam and Alice knew they had to act fast to stop the cult and save the town from destruction. But as they delved deeper into the darkness, they realized that the lines between good and evil were not as clear-cut as they had once thought. The horrors they were about to face would push them to their limits and threaten to consume them both.\n",
      "\n",
      "\n",
      "\n",
      "Please write the detailed description for the script of each scene\n",
      "Refer to the story so far, previous scenes and character descriptions when writing this, do not contradict things mentioned already.\n",
      "However, you can be creative with what happens in this scene\n",
      "\n",
      "The output should be a markdown code snippet formatted in the following schema, including the leading and trailing \"\\`\\`\\`json\" and \"\\`\\`\\`\":\n",
      "\n",
      "```json\n",
      "{\n",
      "\t\"scene_content\": string  // The content of what happens in this scene, this will be in script format where every new line will be either a narrator speaking or one of the characters. Narrator lines will start with NARRATOR: and character dialogue will start with the name of each character when they are speaking, for a character named John Smith, the line will start with JOHN SMITH: followed by what they say. For characters speaking, only mention characters from the list of characters mentioned in this scene. They can refer to other characters in the story\n",
      "\t\"scene_image\": string  // A description of the image used for the scene, it will link to the content of the scene and will be sent to a AI model that can create images based on a description\n",
      "\t\"scene_audio\": string  // A description of the audio, this will fit the content of the scene and will be sent to a AI model that can create audio music based on a description\n",
      "}\n",
      "```\n",
      "\n",
      "Wrap your final output with closed and open brackets (a list of json objects)\n",
      "\n",
      "YOUR RESPONSE:\n",
      "\n"
     ]
    }
   ],
   "source": [
    "from src.prompts.storyteller_prompts import scene_prompt\n",
    "\n",
    "_input = scene_prompt.format_prompt(\n",
    "    author_name = author_name, \n",
    "    author_style = author_style,\n",
    "    story_summary = story_summary,\n",
    "    character_descriptions = character_descriptions,\n",
    "    section_name = section_name,\n",
    "    section_description = section_description,\n",
    "    mentioned_characters = mentioned_characters,\n",
    "    story_so_far = story_so_far,\n",
    "    this_scene = this_scene\n",
    ")\n",
    "\n",
    "\n",
    "print (f\"There are {len(_input.messages)} message(s)\")\n",
    "print (f\"Type: {type(_input.messages[0])}\")\n",
    "print (\"---------------------------\")\n",
    "print (_input.messages[0].content)"
   ]
  },
  {
   "cell_type": "code",
   "execution_count": 120,
   "id": "3427cd8b",
   "metadata": {},
   "outputs": [
    {
     "name": "stderr",
     "output_type": "stream",
     "text": [
      "Retrying langchain.chat_models.openai.ChatOpenAI.completion_with_retry.<locals>._completion_with_retry in 1.0 seconds as it raised Timeout: Request timed out: HTTPSConnectionPool(host='api.openai.com', port=443): Read timed out. (read timeout=600).\n"
     ]
    }
   ],
   "source": [
    "output = chat_model(_input.to_messages())\n",
    "\n",
    "if \"```json\" in output.content:\n",
    "    scene_detail = output.content.split(\"```json\")[1].replace('```','').strip()\n",
    "else:\n",
    "    scene_detail = output.content\n"
   ]
  },
  {
   "cell_type": "code",
   "execution_count": 123,
   "id": "ac4762d0",
   "metadata": {},
   "outputs": [
    {
     "data": {
      "text/plain": [
       "[{'scene_content': \"NARRATOR: Sheriff Adam Cross had been working tirelessly to investigate the disappearances, but with no clues or leads, he was at a loss. That was until Alice Chen, a young and curious journalist, arrived in town asking questions and stirring up trouble.\\n\\nADAM CROSS: Can I help you with something?\\n\\nALICE CHEN: Yes, I'm here to investigate the strange happenings in this town. I've heard there have been some unexplained disappearances.\\n\\nADAM CROSS: That's right, we're still trying to get to the bottom of it. Do you have any leads?\\n\\nALICE CHEN: Not yet, but I plan on turning over every stone until I find the truth.\\n\\nNARRATOR: Adam had mixed feelings about this young journalist, but he couldn't deny that she had the drive and determination to get to the bottom of things. The two of them would soon team up to uncover the dark secrets of Kingsport.\",\n",
       "  'scene_image': \"A dimly lit police station, with Adam and Alice standing opposite each other. There's a map of the town on the wall behind them.\",\n",
       "  'scene_audio': 'Eerie and suspenseful background music, with faint sounds of waves crashing against the shore in the distance.'},\n",
       " {'scene_content': \"NARRATOR: As Adam and Alice began to uncover the truth behind the disappearances, they realized that something much larger and more dangerous was at play. A cult worshipping an ancient entity had taken root in the forest, and they were seeking to awaken it, intending to bring about the end of the world.\\n\\nALICE CHEN: I've been doing some digging, and I've found evidence of a cult operating in the nearby woods. They've been holding secret ceremonies and making sacrifices to some kind of ancient entity.\\n\\nADAM CROSS: A cult? That's a serious claim, Alice. Do you have any proof?\\n\\nALICE CHEN: Yes, I have some photos and recordings that I've collected. I think we need to investigate this further.\\n\\nNARRATOR: With Alice's evidence in hand, the two of them set out to explore the woods and find the cult. What they discovered there would chill them to their very core.\",\n",
       "  'scene_image': 'A dark and foreboding forest, with twisted trees and tangled underbrush. In the distance, the faint glow of torches can be seen.',\n",
       "  'scene_audio': 'Ominous and unsettling music, with the occasional sound of rustling leaves and an owl hooting in the distance.'},\n",
       " {'scene_content': \"NARRATOR: Adam and Alice knew they had to act fast to stop the cult and save the town from destruction. But as they delved deeper into the darkness, they realized that the lines between good and evil were not as clear-cut as they had once thought. The horrors they were about to face would push them to their limits and threaten to consume them both.\\n\\nADAM CROSS: (whispering) Stay close to me, Alice. I don't know what we're going to find in here.\\n\\nALICE CHEN: (whispering) I'm right behind you, Sheriff. Let's find these cultists and put a stop to their plans.\\n\\nNARRATOR: As they crept deeper into the woods, the sounds of chanting grew louder. They could see the flickering light of torches ahead of them, and the smell of incense filled their nostrils. They knew that whatever lay ahead would be their greatest challenge yet.\",\n",
       "  'scene_image': 'A dimly lit clearing in the woods, with a group of robed cultists gathered around a central altar. The altar is adorned with strange symbols and glowing runes.',\n",
       "  'scene_audio': 'A tense and dramatic orchestral score, with the occasional burst of chanting from the cultists and the crackle of the torches.'}]"
      ]
     },
     "execution_count": 123,
     "metadata": {},
     "output_type": "execute_result"
    }
   ],
   "source": [
    "json.loads(scene_detail)"
   ]
  },
  {
   "cell_type": "code",
   "execution_count": 126,
   "id": "551a2bab",
   "metadata": {
    "scrolled": true
   },
   "outputs": [
    {
     "name": "stdout",
     "output_type": "stream",
     "text": [
      "NARRATOR: Sheriff Adam Cross had been working tirelessly to investigate the disappearances, but with no clues or leads, he was at a loss. That was until Alice Chen, a young and curious journalist, arrived in town asking questions and stirring up trouble.\n",
      "\n",
      "ADAM CROSS: Can I help you with something?\n",
      "\n",
      "ALICE CHEN: Yes, I'm here to investigate the strange happenings in this town. I've heard there have been some unexplained disappearances.\n",
      "\n",
      "ADAM CROSS: That's right, we're still trying to get to the bottom of it. Do you have any leads?\n",
      "\n",
      "ALICE CHEN: Not yet, but I plan on turning over every stone until I find the truth.\n",
      "\n",
      "NARRATOR: Adam had mixed feelings about this young journalist, but he couldn't deny that she had the drive and determination to get to the bottom of things. The two of them would soon team up to uncover the dark secrets of Kingsport.\n",
      "\n",
      "\n",
      "NARRATOR: As Adam and Alice began to uncover the truth behind the disappearances, they realized that something much larger and more dangerous was at play. A cult worshipping an ancient entity had taken root in the forest, and they were seeking to awaken it, intending to bring about the end of the world.\n",
      "\n",
      "ALICE CHEN: I've been doing some digging, and I've found evidence of a cult operating in the nearby woods. They've been holding secret ceremonies and making sacrifices to some kind of ancient entity.\n",
      "\n",
      "ADAM CROSS: A cult? That's a serious claim, Alice. Do you have any proof?\n",
      "\n",
      "ALICE CHEN: Yes, I have some photos and recordings that I've collected. I think we need to investigate this further.\n",
      "\n",
      "NARRATOR: With Alice's evidence in hand, the two of them set out to explore the woods and find the cult. What they discovered there would chill them to their very core.\n",
      "\n",
      "\n",
      "NARRATOR: Adam and Alice knew they had to act fast to stop the cult and save the town from destruction. But as they delved deeper into the darkness, they realized that the lines between good and evil were not as clear-cut as they had once thought. The horrors they were about to face would push them to their limits and threaten to consume them both.\n",
      "\n",
      "ADAM CROSS: (whispering) Stay close to me, Alice. I don't know what we're going to find in here.\n",
      "\n",
      "ALICE CHEN: (whispering) I'm right behind you, Sheriff. Let's find these cultists and put a stop to their plans.\n",
      "\n",
      "NARRATOR: As they crept deeper into the woods, the sounds of chanting grew louder. They could see the flickering light of torches ahead of them, and the smell of incense filled their nostrils. They knew that whatever lay ahead would be their greatest challenge yet.\n",
      "\n",
      "\n"
     ]
    },
    {
     "data": {
      "text/plain": [
       "[None, None, None]"
      ]
     },
     "execution_count": 126,
     "metadata": {},
     "output_type": "execute_result"
    }
   ],
   "source": [
    "json.loads(json_string)[0]['scene_image']\n",
    "\n",
    "[print(j['scene_content']+'\\n\\n') for j in json.loads(scene_detail)]"
   ]
  },
  {
   "cell_type": "code",
   "execution_count": 127,
   "id": "87543d4e",
   "metadata": {},
   "outputs": [
    {
     "name": "stdout",
     "output_type": "stream",
     "text": [
      "A dimly lit police station, with Adam and Alice standing opposite each other. There's a map of the town on the wall behind them.\n",
      "\n",
      "\n",
      "A dark and foreboding forest, with twisted trees and tangled underbrush. In the distance, the faint glow of torches can be seen.\n",
      "\n",
      "\n",
      "A dimly lit clearing in the woods, with a group of robed cultists gathered around a central altar. The altar is adorned with strange symbols and glowing runes.\n",
      "\n",
      "\n"
     ]
    },
    {
     "data": {
      "text/plain": [
       "[None, None, None]"
      ]
     },
     "execution_count": 127,
     "metadata": {},
     "output_type": "execute_result"
    }
   ],
   "source": [
    "[print(j['scene_image']+'\\n\\n') for j in json.loads(scene_detail)]"
   ]
  },
  {
   "cell_type": "code",
   "execution_count": null,
   "id": "ae7889c6",
   "metadata": {},
   "outputs": [],
   "source": []
  },
  {
   "cell_type": "code",
   "execution_count": 138,
   "id": "dda32656",
   "metadata": {},
   "outputs": [],
   "source": [
    "from story_teller import StoryTeller\n",
    "\n",
    "lovecraft0 = StoryTeller(\n",
    "    author_name = 'H. P. Lovecraft',\n",
    "    author_style = 'described as atmospheric, dark, and highly descriptive. His works often revolve around cosmic horror and the unknown, incorporating elements of science fiction and supernatural themes. Lovecraft\\'s prose is characterized by intricate world-building, richly detailed descriptions of otherworldly creatures and settings, and a sense of foreboding and dread that pervades his stories. He frequently employs a first-person narrative, immersing readers in the unsettling perspectives of his characters as they confront the unfathomable horrors of the Lovecraftian universe.',\n",
    "    data_storage = './data/stories',\n",
    "    story_key = 'lovecraft0'\n",
    ")\n",
    "lovecraft0.create_story_summary()\n",
    "lovecraft0.create_story_characters()\n",
    "lovecraft0.create_story_plot()"
   ]
  },
  {
   "cell_type": "code",
   "execution_count": 139,
   "id": "c3fe8dc9",
   "metadata": {},
   "outputs": [
    {
     "data": {
      "text/plain": [
       "[{'characters': 'Evelyn Kline, Thomas Marshall',\n",
       "  'section_description': 'Evelyn arrives in the small coastal town to investigate the disappearances.',\n",
       "  'section_name': 'Arrival'},\n",
       " {'characters': 'Evelyn Kline, Thomas Marshall',\n",
       "  'section_description': \"Evelyn and Thomas investigate the disappearances and start to unravel the cult's secrets.\",\n",
       "  'section_name': 'The Investigation'},\n",
       " {'characters': 'Evelyn Kline, Thomas Marshall, Jacob Grey, Maria Hernandez',\n",
       "  'section_description': 'The townspeople discover the existence of the cult and their plans to awaken an ancient deity.',\n",
       "  'section_name': 'The Cult'},\n",
       " {'characters': 'Evelyn Kline, Thomas Marshall, Jacob Grey, Maria Hernandez',\n",
       "  'section_description': \"Evelyn discovers the truth behind the disappearances and the cult's plan to end the world.\",\n",
       "  'section_name': 'The Revelation'},\n",
       " {'characters': 'Evelyn Kline, Thomas Marshall, Jacob Grey, Maria Hernandez',\n",
       "  'section_description': 'Evelyn and Thomas confront Jacob and the cult in an intense showdown.',\n",
       "  'section_name': 'The Confrontation'},\n",
       " {'characters': 'Evelyn Kline, Thomas Marshall',\n",
       "  'section_description': \"The cult is stopped, but at a great cost to the town. Evelyn and Thomas contemplate the horrors they've faced and the unknown future that lies ahead.\",\n",
       "  'section_name': 'The Resolution'}]"
      ]
     },
     "execution_count": 139,
     "metadata": {},
     "output_type": "execute_result"
    }
   ],
   "source": [
    "lovecraft0.story_plot"
   ]
  },
  {
   "cell_type": "code",
   "execution_count": 140,
   "id": "fc8ee8e9",
   "metadata": {},
   "outputs": [],
   "source": [
    "import requests\n",
    "\n",
    "e11labs_key = open('./tts/elevenlabs.key','r').read()"
   ]
  },
  {
   "cell_type": "code",
   "execution_count": 141,
   "id": "acf9cd62",
   "metadata": {},
   "outputs": [
    {
     "data": {
      "text/plain": [
       "'9091911747032ad2aaf48947c11a1456'"
      ]
     },
     "execution_count": 141,
     "metadata": {},
     "output_type": "execute_result"
    }
   ],
   "source": [
    "e11labs_key"
   ]
  },
  {
   "cell_type": "code",
   "execution_count": 207,
   "id": "dbfc7a34",
   "metadata": {
    "scrolled": true
   },
   "outputs": [
    {
     "data": {
      "text/plain": [
       "['You are a storyteller who writes and is inspired by H. P. Lovecraft and you write stories in their style. Their style is typically described as described as atmospheric, dark, and highly descriptive. His works often revolve around cosmic horror and the unknown, incorporating elements of science fiction and supernatural themes. Lovecraft\\'s prose is characterized by intricate world-building, richly detailed descriptions of otherworldly creatures and settings, and a sense of foreboding and dread that pervades his stories. He frequently employs a first-person narrative, immersing readers in the unsettling perspectives of his characters as they confront the unfathomable horrors of the Lovecraftian universe.. This is the story summary: A small coastal town is plagued by a series of strange disappearances. As the townsfolk investigate, they uncover a cult worshipping an ancient entity that dwells in the depths of the nearby forest. The cult seeks to awaken the deity, intending to bring about the end of the world. The townspeople must unravel the secrets of the cult before it\\'s too late.These are the characters in the story:[{\\'character_age\\': \\'55\\', \\'character_appearance\\': \"He has a weathered, lined face from years of working on the docks. He\\'s tall and lanky, and usually wears a fisherman\\'s jacket and rubber boots.\", \\'character_gender\\': \\'male\\', \\'character_name\\': \\'Thomas Marshall\\', \\'character_role\\': \"Thomas is the voice of reason for the town. He\\'s the one who questions the strange occurrences and doesn\\'t believe in the cult\\'s claims. He helps the protagonist investigate and provides valuable insight into the town\\'s history.\", \\'character_traits\\': \"Thomas was raised in the town and has seen it all. He\\'s skeptical of outsiders and their claims of supernatural occurrences. Thomas is also stubborn and won\\'t back down from a fight, even if it means putting himself in danger.\"}, {\\'character_age\\': \\'30\\', \\'character_appearance\\': \"Evelyn has a striking appearance, with piercing blue eyes and curly black hair. She\\'s lean and athletic, and usually wears practical clothing, like hiking boots and cargo pants.\", \\'character_gender\\': \\'female\\', \\'character_name\\': \\'Evelyn Kline\\', \\'character_role\\': \"Evelyn is the protagonist of the story. She comes to the town to investigate the disappearances and uncovers the cult\\'s dark secrets. She\\'s determined to stop the cult and prevent the awakening of the deity.\", \\'character_traits\\': \"Evelyn is an outsider who came to the town to escape her past. She\\'s a survivalist, with extensive knowledge of the outdoors and wilderness. Evelyn is also haunted by a traumatic event from her past, which makes her cautious and distrusting of others.\"}, {\\'character_age\\': \\'40\\', \\'character_appearance\\': \\'Jacob is tall and muscular, with a shaved head and a bushy beard. He wears biker gear and carries a large hunting knife.\\', \\'character_gender\\': \\'male\\', \\'character_name\\': \\'Jacob Grey\\', \\'character_role\\': \"Jacob is the main antagonist of the story. He leads the cult and is responsible for the disappearances. He poses a direct threat to the protagonist and the townspeople, and must be stopped before it\\'s too late.\", \\'character_traits\\': \"Jacob is the leader of the cult. He\\'s charismatic and persuasive, able to convince people to join his cause. Jacob believes that awakening the deity will bring about a new world order, where he and his followers will reign supreme.\"}, {\\'character_age\\': \\'25\\', \\'character_appearance\\': \\'Maria is petite and vivacious, with long curly hair and bright green eyes. She wears colorful clothes and always has a smile on her face.\\', \\'character_gender\\': \\'female\\', \\'character_name\\': \\'Maria Hernandez\\', \\'character_role\\': \"Maria is a secondary character, but plays an important role in the story. She provides information to the protagonist and offers a glimpse into the cult\\'s inner workings. Maria also serves as a foil to Jacob, highlighting the deceptive nature of his leadership.\", \\'character_traits\\': \"Maria is a member of the cult. She was drawn to Jacob\\'s charisma and his promises of a better world. Maria is conflicted about the cult\\'s actions, but is afraid of the consequences of leaving.\"}]Write part of the story titled: The Cult, with the description: The townspeople discover the existence of the cult and their plans to awaken an ancient deity.This part also mentions these characters Evelyn Kline, Thomas Marshall, Jacob Grey, Maria HernandezYOUR RESPONSE:']"
      ]
     },
     "execution_count": 207,
     "metadata": {},
     "output_type": "execute_result"
    }
   ],
   "source": [
    "txt = open('./data/stories/lovecraft0/03_section_detail_2_prompt.txt','r').readlines()\n",
    "\n",
    "txt[0].split('\\n')"
   ]
  },
  {
   "cell_type": "code",
   "execution_count": 213,
   "id": "f475c3c5",
   "metadata": {},
   "outputs": [],
   "source": [
    "txt = 'Bob\\nBob'\n",
    "with open('./bob.txt','w') as f:\n",
    "    f.writelines(txt)"
   ]
  },
  {
   "cell_type": "code",
   "execution_count": 211,
   "id": "070eeca3",
   "metadata": {},
   "outputs": [],
   "source": [
    "txt = 'Bob\\nBob'\n",
    "with open('./bob.txt','w') as f:\n",
    "    f.write(txt)"
   ]
  },
  {
   "cell_type": "code",
   "execution_count": 143,
   "id": "37493974",
   "metadata": {},
   "outputs": [],
   "source": [
    "from elevenlabs import set_api_key\n",
    "set_api_key(e11labs_key)"
   ]
  },
  {
   "cell_type": "code",
   "execution_count": 149,
   "id": "1ac7d445",
   "metadata": {},
   "outputs": [],
   "source": [
    "from elevenlabs import generate, play, set_api_key, voices\n",
    "\n",
    "# set_api_key(\"<YOUR_API_KEY>\") # Check the guide on how to get a free API key: https://docs.elevenlabs.io/authentication/01-xi-api-key \n"
   ]
  },
  {
   "cell_type": "code",
   "execution_count": null,
   "id": "94d987b2",
   "metadata": {},
   "outputs": [],
   "source": [
    "generate()"
   ]
  },
  {
   "cell_type": "code",
   "execution_count": 148,
   "id": "6757411a",
   "metadata": {},
   "outputs": [],
   "source": [
    "file_path = './hi.mp3'\n",
    "\n",
    "with open(file_path, \"wb\") as out:\n",
    "    # Write the response to the output file.\n",
    "    out.write(audio)"
   ]
  },
  {
   "cell_type": "code",
   "execution_count": 155,
   "id": "198692fe",
   "metadata": {},
   "outputs": [
    {
     "data": {
      "text/plain": [
       "['Rachel', 'Domi', 'Bella', 'Antoni', 'Elli', 'Josh', 'Arnold', 'Adam', 'Sam']"
      ]
     },
     "execution_count": 155,
     "metadata": {},
     "output_type": "execute_result"
    }
   ],
   "source": [
    "import json\n",
    "\n",
    "[j['name'] for j in json.load(open('./tts/voices.json','r'))['voices']]"
   ]
  },
  {
   "cell_type": "code",
   "execution_count": 158,
   "id": "d784d0e9",
   "metadata": {},
   "outputs": [],
   "source": [
    "characters = yaml.load(open('./data/stories/lovecraft0/01_characters.yaml','r'), Loader=yaml.FullLoader)"
   ]
  },
  {
   "cell_type": "code",
   "execution_count": 225,
   "id": "5b66f22e",
   "metadata": {},
   "outputs": [],
   "source": [
    "from src.voice_selection import voice_assignment"
   ]
  },
  {
   "cell_type": "code",
   "execution_count": 226,
   "id": "fbf3f181",
   "metadata": {},
   "outputs": [],
   "source": [
    "voice_assignments = voice_assignment(characters)"
   ]
  },
  {
   "cell_type": "code",
   "execution_count": 227,
   "id": "153fb9f4",
   "metadata": {},
   "outputs": [
    {
     "data": {
      "text/plain": [
       "{'NARRATOR': 'Antoni',\n",
       " 'THOMAS MARSHALL': 'Arnold',\n",
       " 'EVELYN KLINE': 'Domi',\n",
       " 'JACOB GREY': 'Adam',\n",
       " 'MARIA HERNANDEZ': 'Rachel'}"
      ]
     },
     "execution_count": 227,
     "metadata": {},
     "output_type": "execute_result"
    }
   ],
   "source": [
    "voice_assignments"
   ]
  },
  {
   "cell_type": "code",
   "execution_count": 169,
   "id": "b24b36ab",
   "metadata": {
    "scrolled": true
   },
   "outputs": [
    {
     "data": {
      "text/plain": [
       "[{'character_name': 'Thomas Marshall',\n",
       "  'character_age': '55',\n",
       "  'character_gender': 'male'},\n",
       " {'character_name': 'Evelyn Kline',\n",
       "  'character_age': '30',\n",
       "  'character_gender': 'female'},\n",
       " {'character_name': 'Jacob Grey',\n",
       "  'character_age': '40',\n",
       "  'character_gender': 'male'},\n",
       " {'character_name': 'Maria Hernandez',\n",
       "  'character_age': '25',\n",
       "  'character_gender': 'female'}]"
      ]
     },
     "execution_count": 169,
     "metadata": {},
     "output_type": "execute_result"
    }
   ],
   "source": [
    "characters_simple = [{\n",
    "    'character_name': c['character_name'],\n",
    "    'character_age': c['character_age'],\n",
    "    'character_gender': c['character_gender']\n",
    "} for c in characters]\n",
    "\n",
    "characters_simple\n"
   ]
  },
  {
   "cell_type": "code",
   "execution_count": 251,
   "id": "5ac52c60",
   "metadata": {},
   "outputs": [
    {
     "ename": "FileNotFoundError",
     "evalue": "[Errno 2] No such file or directory: './data/stories/lovecraft0/04_1_section_plot_safe.txt'",
     "output_type": "error",
     "traceback": [
      "\u001b[0;31m---------------------------------------------------------------------------\u001b[0m",
      "\u001b[0;31mFileNotFoundError\u001b[0m                         Traceback (most recent call last)",
      "Cell \u001b[0;32mIn[251], line 1\u001b[0m\n\u001b[0;32m----> 1\u001b[0m json\u001b[38;5;241m.\u001b[39mload(\u001b[38;5;28;43mopen\u001b[39;49m\u001b[43m(\u001b[49m\u001b[38;5;124;43m'\u001b[39;49m\u001b[38;5;124;43m./data/stories/lovecraft0/04_1_section_plot_safe.txt\u001b[39;49m\u001b[38;5;124;43m'\u001b[39;49m\u001b[43m,\u001b[49m\u001b[38;5;124;43m'\u001b[39;49m\u001b[38;5;124;43mr\u001b[39;49m\u001b[38;5;124;43m'\u001b[39;49m\u001b[43m)\u001b[49m\u001b[38;5;241m.\u001b[39mread())\n",
      "File \u001b[0;32m~/opt/miniconda3/envs/similacra/lib/python3.9/site-packages/IPython/core/interactiveshell.py:284\u001b[0m, in \u001b[0;36m_modified_open\u001b[0;34m(file, *args, **kwargs)\u001b[0m\n\u001b[1;32m    277\u001b[0m \u001b[38;5;28;01mif\u001b[39;00m file \u001b[38;5;129;01min\u001b[39;00m {\u001b[38;5;241m0\u001b[39m, \u001b[38;5;241m1\u001b[39m, \u001b[38;5;241m2\u001b[39m}:\n\u001b[1;32m    278\u001b[0m     \u001b[38;5;28;01mraise\u001b[39;00m \u001b[38;5;167;01mValueError\u001b[39;00m(\n\u001b[1;32m    279\u001b[0m         \u001b[38;5;124mf\u001b[39m\u001b[38;5;124m\"\u001b[39m\u001b[38;5;124mIPython won\u001b[39m\u001b[38;5;124m'\u001b[39m\u001b[38;5;124mt let you open fd=\u001b[39m\u001b[38;5;132;01m{\u001b[39;00mfile\u001b[38;5;132;01m}\u001b[39;00m\u001b[38;5;124m by default \u001b[39m\u001b[38;5;124m\"\u001b[39m\n\u001b[1;32m    280\u001b[0m         \u001b[38;5;124m\"\u001b[39m\u001b[38;5;124mas it is likely to crash IPython. If you know what you are doing, \u001b[39m\u001b[38;5;124m\"\u001b[39m\n\u001b[1;32m    281\u001b[0m         \u001b[38;5;124m\"\u001b[39m\u001b[38;5;124myou can use builtins\u001b[39m\u001b[38;5;124m'\u001b[39m\u001b[38;5;124m open.\u001b[39m\u001b[38;5;124m\"\u001b[39m\n\u001b[1;32m    282\u001b[0m     )\n\u001b[0;32m--> 284\u001b[0m \u001b[38;5;28;01mreturn\u001b[39;00m \u001b[43mio_open\u001b[49m\u001b[43m(\u001b[49m\u001b[43mfile\u001b[49m\u001b[43m,\u001b[49m\u001b[43m \u001b[49m\u001b[38;5;241;43m*\u001b[39;49m\u001b[43margs\u001b[49m\u001b[43m,\u001b[49m\u001b[43m \u001b[49m\u001b[38;5;241;43m*\u001b[39;49m\u001b[38;5;241;43m*\u001b[39;49m\u001b[43mkwargs\u001b[49m\u001b[43m)\u001b[49m\n",
      "\u001b[0;31mFileNotFoundError\u001b[0m: [Errno 2] No such file or directory: './data/stories/lovecraft0/04_1_section_plot_safe.txt'"
     ]
    }
   ],
   "source": [
    "json.load(open('./data/stories/lovecraft0/04_1_section_plot_safe.txt','r').read())"
   ]
  },
  {
   "cell_type": "code",
   "execution_count": 235,
   "id": "3bda7bfb",
   "metadata": {},
   "outputs": [],
   "source": [
    "scenes = yaml.load(open('./data/stories/lovecraft0/04_2_section_plot.yaml','r'), Loader=yaml.FullLoader)"
   ]
  },
  {
   "cell_type": "code",
   "execution_count": 244,
   "id": "a4b06206",
   "metadata": {},
   "outputs": [
    {
     "name": "stdout",
     "output_type": "stream",
     "text": [
      "NARRATOR: As Evelyn and Thomas continue to investigate the strange disappearances in the small coastal town, they stumble upon a group of people meeting in an abandoned warehouse on the outskirts of town. They watch from the shadows as the group, dressed in hooded robes and chanting in an unfamiliar language, is led by a man with a shaved head and a bushy beard, named Jacob Grey. His followers listen intently as he speaks in a commanding voice.\n",
      "\n",
      "NARRATOR: The meeting comes to an end and the cult members begin to disperse, but Evelyn and Thomas follow one of the cult members, Maria Hernandez, into an alleyway. They confront her, demanding answers.\n",
      "\n",
      "EVELYN KLINE: What's going on here, Maria? What is this cult? \n",
      "MARIA HERNANDEZ: I-I can't say... You don't understand. If they find out I'm talking to you... \n",
      "THOMAS MARSHALL: We're not going to hurt you, Maria. We just want to know what's happening in this town. \n",
      "MARIA HERNANDEZ: (sighs) Fine. But you didn't hear this from me. They believe in an ancient deity that dwells in the nearby forest. They think they can awaken it and bring about the end of the world. \n",
      "EVELYN KLINE: That's insane. We need to stop them before they do something dangerous. \n",
      "THOMAS MARSHALL: Do you know where they're meeting next? \n",
      "MARIA HERNANDEZ: (hesitates) I can't say for sure, but I heard something about a ceremony at midnight, deep in the forest.\n",
      "\n",
      "NARRATOR: Evelyn and Thomas leave the alleyway, deep in thought. They realize that time is running out and that they need to act fast to stop the cult from awakening the deity. They begin to organize a plan, enlisting the help of a few brave townspeople.\n",
      "\n",
      "NARRATOR: Unbeknownst to them, Jacob Grey is one step ahead of the group. He knows that they're planning to stop him and he's not going to let anyone get in his way.\n",
      "\n"
     ]
    }
   ],
   "source": [
    "\n",
    "for scene in scenes:\n",
    "    for s in scene['scene_content'].split('\\n'):\n",
    "        print(s)\n",
    "    print('')"
   ]
  },
  {
   "cell_type": "code",
   "execution_count": 252,
   "id": "d63b7019",
   "metadata": {},
   "outputs": [],
   "source": [
    "text = 'NARRATOR: This is it\\nThomas: I am tired'\n"
   ]
  },
  {
   "cell_type": "code",
   "execution_count": 219,
   "id": "a26e4a53",
   "metadata": {},
   "outputs": [
    {
     "data": {
      "text/plain": [
       "['NARRATOR: THIS IS IT', 'THOMAS: I AM TIRED']"
      ]
     },
     "execution_count": 219,
     "metadata": {},
     "output_type": "execute_result"
    }
   ],
   "source": [
    "text_split"
   ]
  },
  {
   "cell_type": "code",
   "execution_count": 222,
   "id": "94414c00",
   "metadata": {},
   "outputs": [
    {
     "data": {
      "text/plain": [
       "''"
      ]
     },
     "execution_count": 222,
     "metadata": {},
     "output_type": "execute_result"
    }
   ],
   "source": [
    "voice"
   ]
  },
  {
   "cell_type": "code",
   "execution_count": 229,
   "id": "0aca0c2d",
   "metadata": {},
   "outputs": [
    {
     "data": {
      "text/plain": [
       "{'NARRATOR': 'Antoni',\n",
       " 'THOMAS MARSHALL': 'Arnold',\n",
       " 'EVELYN KLINE': 'Domi',\n",
       " 'JACOB GREY': 'Adam',\n",
       " 'MARIA HERNANDEZ': 'Rachel'}"
      ]
     },
     "execution_count": 229,
     "metadata": {},
     "output_type": "execute_result"
    }
   ],
   "source": [
    "voice_assignments"
   ]
  },
  {
   "cell_type": "code",
   "execution_count": 253,
   "id": "eadd1e97",
   "metadata": {},
   "outputs": [
    {
     "data": {
      "text/plain": [
       "1"
      ]
     },
     "execution_count": 253,
     "metadata": {},
     "output_type": "execute_result"
    }
   ],
   "source": [
    "len(str(0))"
   ]
  },
  {
   "cell_type": "code",
   "execution_count": 257,
   "id": "02e6de87",
   "metadata": {},
   "outputs": [],
   "source": [
    "voice_script = yaml.load(open('./data/stories/lovecraft0/05_00_voice_scripts.yaml','r'), Loader=yaml.FullLoader)"
   ]
  },
  {
   "cell_type": "code",
   "execution_count": 261,
   "id": "60f9e1be",
   "metadata": {},
   "outputs": [
    {
     "data": {
      "text/plain": [
       "1971"
      ]
     },
     "execution_count": 261,
     "metadata": {},
     "output_type": "execute_result"
    }
   ],
   "source": [
    "len(' '.join([v['text'] for v in voice_script]))"
   ]
  },
  {
   "cell_type": "code",
   "execution_count": 264,
   "id": "7b69a4e4",
   "metadata": {},
   "outputs": [
    {
     "data": {
      "text/plain": [
       "1634"
      ]
     },
     "execution_count": 264,
     "metadata": {},
     "output_type": "execute_result"
    }
   ],
   "source": [
    "voice_script = yaml.load(open('./data/stories/lovecraft0/05_01_voice_scripts.yaml','r'), Loader=yaml.FullLoader)\n",
    "\n",
    "len(' '.join([v['text'] for v in voice_script]))"
   ]
  },
  {
   "cell_type": "code",
   "execution_count": 298,
   "id": "6c9a2e83",
   "metadata": {},
   "outputs": [
    {
     "data": {
      "text/plain": [
       "'\"[{\"SCENE_CONTENT\": [\"NARRATOR: It was a beautiful day in the forest, and Sammy the Squirrel was out for his usual adventure.\",\"NARRATOR: As he was scampering through the trees, he noticed something shiny on the ground. Curious, he ran over to investigate and found a small, mysterious key.\",\"SAMMY THE SQUIRREL: What could this be for?\",\"SAMMY THE SQUIRREL: (Wondering aloud) How old is this key? How long has it been here?\",\"SAMMY THE SQUIRREL: (Holding the key up to the sunlight) This key must have a story behind it. I\\'m determined to uncover its secrets!\"],\"SCENE_IMAGE\": \"A stunning vista of winding forest trails and flickering sunlight through the leaves. Sammy is seen holding up the key, looking at it closely.\",\"SCENE_AUDIO\": \"A whimsical and upbeat melody begins to play, featuring woodwinds, strings, and a gentle percussion. The music reflects the wonder and curiosity of Sammy\\'s discovery and excitement for the journey ahead.\"},{\"SCENE_CONTENT\": [\"NARRATOR: Sammy knew that he couldn\\'t solve this mystery alone.\",\"NARRATOR: Without wasting another moment, he set off on his new adventure. He bounded through the forest, his heart racing with excitement.\",\"NARRATOR: He knew that he would need the help of his good friends.\",\"SAMMY THE SQUIRREL: (shouting) Benny, Benny!\",\"BENNY THE BUNNY: (hopping over) What\\'s happening Sammy, what did you find?\",\"SAMMY THE SQUIRREL: (Holding up the key) It\\'s a key!\",\"BENNY THE BUNNY: (in amazement) Wow! What do you think it opens?\",\"SAMMY THE SQUIRREL: I don\\'t know, but I\\'m going to find out! Will you help me, Benny?\",\"BENNY THE BUNNY: (grinning) Of course, Sammy! Let\\'s go on an adventure!\"],\"SCENE_IMAGE\": \"Sammy is seen standing with Benny, two friends eager to solve the mystery of the key. The forest is seen in the background.\",\"SCENE_AUDIO\": \"The music picks up pace, building momentum as the excitement of the adventure takes hold. A lively and upbeat melody featuring a guitar, strings, and percussion energizes the scene, further enhancing the sense of adventure.\"}]\"'"
      ]
     },
     "execution_count": 298,
     "metadata": {},
     "output_type": "execute_result"
    }
   ],
   "source": [
    "txt = open('./data/stories/donaldson0/04_0_section_plot_safe.txt','r').read()\n",
    "txt = txt.replace('\\\\n', '').replace('\\\\', '').replace('\\n', '').replace('  ', '').replace(',]', ']')\n",
    "txt.strip()"
   ]
  },
  {
   "cell_type": "code",
   "execution_count": 301,
   "id": "5e625664",
   "metadata": {},
   "outputs": [
    {
     "ename": "SyntaxError",
     "evalue": "invalid syntax (<string>, line 1)",
     "output_type": "error",
     "traceback": [
      "Traceback \u001b[0;36m(most recent call last)\u001b[0m:\n",
      "\u001b[0m  File \u001b[1;32m~/opt/miniconda3/envs/similacra/lib/python3.9/site-packages/IPython/core/interactiveshell.py:3508\u001b[0m in \u001b[1;35mrun_code\u001b[0m\n    exec(code_obj, self.user_global_ns, self.user_ns)\u001b[0m\n",
      "\u001b[0;36m  Cell \u001b[0;32mIn[301], line 1\u001b[0;36m\n\u001b[0;31m    eval(txt.strip())\u001b[0;36m\n",
      "\u001b[0;36m  File \u001b[0;32m<string>:1\u001b[0;36m\u001b[0m\n\u001b[0;31m    \"[{\"SCENE_CONTENT\": [\"NARRATOR: It was a beautiful day in the forest, and Sammy the Squirrel was out for his usual adventure.\",\"NARRATOR: As he was scampering through the trees, he noticed something shiny on the ground. Curious, he ran over to investigate and found a small, mysterious key.\",\"SAMMY THE SQUIRREL: What could this be for?\",\"SAMMY THE SQUIRREL: (Wondering aloud) How old is this key? How long has it been here?\",\"SAMMY THE SQUIRREL: (Holding the key up to the sunlight) This key must have a story behind it. I'm determined to uncover its secrets!\"],\"SCENE_IMAGE\": \"A stunning vista of winding forest trails and flickering sunlight through the leaves. Sammy is seen holding up the key, looking at it closely.\",\"SCENE_AUDIO\": \"A whimsical and upbeat melody begins to play, featuring woodwinds, strings, and a gentle percussion. The music reflects the wonder and curiosity of Sammy's discovery and excitement for the journey ahead.\"},{\"SCENE_CONTENT\": [\"NARRATOR: Sammy knew that he couldn't solve this mystery alone.\",\"NARRATOR: Without wasting another moment, he set off on his new adventure. He bounded through the forest, his heart racing with excitement.\",\"NARRATOR: He knew that he would need the help of his good friends.\",\"SAMMY THE SQUIRREL: (shouting) Benny, Benny!\",\"BENNY THE BUNNY: (hopping over) What's happening Sammy, what did you find?\",\"SAMMY THE SQUIRREL: (Holding up the key) It's a key!\",\"BENNY THE BUNNY: (in amazement) Wow! What do you think it opens?\",\"SAMMY THE SQUIRREL: I don't know, but I'm going to find out! Will you help me, Benny?\",\"BENNY THE BUNNY: (grinning) Of course, Sammy! Let's go on an adventure!\"],\"SCENE_IMAGE\": \"Sammy is seen standing with Benny, two friends eager to solve the mystery of the key. The forest is seen in the background.\",\"SCENE_AUDIO\": \"The music picks up pace, building momentum as the excitement of the adventure takes hold. A lively and upbeat melody featuring a guitar, strings, and percussion energizes the scene, further enhancing the sense of adventure.\"}]\"\u001b[0m\n\u001b[0m        ^\u001b[0m\n\u001b[0;31mSyntaxError\u001b[0m\u001b[0;31m:\u001b[0m invalid syntax\n"
     ]
    }
   ],
   "source": [
    "json.loads(txt.strip()[1:-1])"
   ]
  },
  {
   "cell_type": "code",
   "execution_count": 297,
   "id": "93efe840",
   "metadata": {},
   "outputs": [
    {
     "data": {
      "text/plain": [
       "',],\"SCENE_IMAGE\": \"A stunning vista of winding forest trails and flickering sunlight through the leaves. Sammy is seen holding up the key, looking at it closely.\",\"SCENE_AUDIO\": \"A whimsical and upbeat melody begins to play, featuring woodwinds, strings, and a gentle percussion. The music reflects the wonder and curiosity of Sammy\\'s discovery and excitement for the journey ahead.\"},{\"SCENE_CONTENT\": [\"NARRATOR: Sammy knew that he couldn\\'t solve this mystery alone.\",\"NARRATOR: Without wasting another moment, he set off on his new adventure. He bounded through the forest, his heart racing with excitement.\",\"NARRATOR: He knew that he would need the help of his good friends.\",\"SAMMY THE SQUIRREL: (shouting) Benny, Benny!\",\"BENNY THE BUNNY: (hopping over) What\\'s happening Sammy, what did you find?\",\"SAMMY THE SQUIRREL: (Holding up the key) It\\'s a key!\",\"BENNY THE BUNNY: (in amazement) Wow! What do you think it opens?\",\"SAMMY THE SQUIRREL: I don\\'t know, but I\\'m going to find out! Will you help me, Benny?\",\"BENNY THE BUNNY: (grinning) Of course, Sammy! Let\\'s go on an adventure!\",],\"SCENE_IMAGE\": \"Sammy is seen standing with Benny, two friends eager to solve the mystery of the key. The forest is seen in the background.\",\"SCENE_AUDIO\": \"The music picks up pace, building momentum as the excitement of the adventure takes hold. A lively and upbeat melody featuring a guitar, strings, and percussion energizes the scene, further enhancing the sense of adventure.\"}]'"
      ]
     },
     "execution_count": 297,
     "metadata": {},
     "output_type": "execute_result"
    }
   ],
   "source": [
    "txt.strip()[1:-1][560:]"
   ]
  },
  {
   "cell_type": "code",
   "execution_count": null,
   "id": "8702b37a",
   "metadata": {},
   "outputs": [],
   "source": [
    "[pnp]"
   ]
  }
 ],
 "metadata": {
  "kernelspec": {
   "display_name": "similacra",
   "language": "python",
   "name": "similacra"
  },
  "language_info": {
   "codemirror_mode": {
    "name": "ipython",
    "version": 3
   },
   "file_extension": ".py",
   "mimetype": "text/x-python",
   "name": "python",
   "nbconvert_exporter": "python",
   "pygments_lexer": "ipython3",
   "version": "3.9.16"
  }
 },
 "nbformat": 4,
 "nbformat_minor": 5
}
