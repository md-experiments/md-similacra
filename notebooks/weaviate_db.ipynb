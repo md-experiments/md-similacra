{
 "cells": [
  {
   "cell_type": "code",
   "execution_count": 1,
   "id": "ce375779",
   "metadata": {},
   "outputs": [],
   "source": [
    "%load_ext autoreload\n",
    "import os\n",
    "\n",
    "os.chdir(os.path.abspath(os.curdir).replace('notebooks',''))"
   ]
  },
  {
   "cell_type": "code",
   "execution_count": 2,
   "id": "26123857",
   "metadata": {},
   "outputs": [],
   "source": [
    "%autoreload 2\n",
    "from src.weaviate_schemas import WeaviateIndexOps"
   ]
  },
  {
   "cell_type": "code",
   "execution_count": null,
   "id": "870018b1",
   "metadata": {},
   "outputs": [],
   "source": []
  },
  {
   "cell_type": "code",
   "execution_count": 4,
   "id": "0208e7bf",
   "metadata": {},
   "outputs": [],
   "source": [
    "wv = WeaviateIndexOps(\n",
    "    text_fields_to_embed = ['thought'],\n",
    "    other_text_fields=['agent'],\n",
    "    int_fields = ['relevance','time'],\n",
    "    index_name = 'Thoughts',\n",
    ")"
   ]
  },
  {
   "cell_type": "code",
   "execution_count": 5,
   "id": "ca1d3739",
   "metadata": {},
   "outputs": [],
   "source": [
    "wv.initialize_index(reset_index=True)"
   ]
  },
  {
   "cell_type": "code",
   "execution_count": 6,
   "id": "3d44a9b7",
   "metadata": {},
   "outputs": [],
   "source": [
    "import datetime"
   ]
  },
  {
   "cell_type": "code",
   "execution_count": 7,
   "id": "1ba2fb76",
   "metadata": {},
   "outputs": [],
   "source": [
    "ts = datetime.datetime.now()"
   ]
  },
  {
   "cell_type": "code",
   "execution_count": 8,
   "id": "7ad19225",
   "metadata": {},
   "outputs": [],
   "source": [
    "wv.add_record({\n",
    "    'thought': 'Feeling a bit hungry',\n",
    "    'agent': 'misho',\n",
    "    'relevance': 10,\n",
    "    'time': int(ts.timestamp())\n",
    "})\n",
    "\n",
    "wv.add_record({\n",
    "    'thought': 'Feeling a bit hungry',\n",
    "    'agent': 'zhenya',\n",
    "    'relevance': 4,\n",
    "    'time': int(ts.timestamp())\n",
    "})"
   ]
  },
  {
   "cell_type": "code",
   "execution_count": 17,
   "id": "9d680d89",
   "metadata": {},
   "outputs": [],
   "source": [
    "\n",
    "wv.add_record({\n",
    "    'thought': 'Totally starving',\n",
    "    'agent': 'misho',\n",
    "    'relevance': 4,\n",
    "    'time': int(ts.timestamp())\n",
    "})"
   ]
  },
  {
   "cell_type": "code",
   "execution_count": 9,
   "id": "611cd7c7",
   "metadata": {},
   "outputs": [],
   "source": [
    "wv.add_record({\n",
    "    'thought': 'Feeling a bit tired',\n",
    "    'agent': 'misho',\n",
    "    'relevance': 10,\n",
    "    'time': int(ts.timestamp())\n",
    "})\n",
    "\n",
    "wv.add_record({\n",
    "    'thought': 'Feeling a bit tired',\n",
    "    'agent': 'zhenya',\n",
    "    'relevance': 10,\n",
    "    'time': int(ts.timestamp())\n",
    "})"
   ]
  },
  {
   "cell_type": "code",
   "execution_count": 32,
   "id": "1c788c33",
   "metadata": {},
   "outputs": [],
   "source": [
    "data = wv.get_all_data(include_additional = False)"
   ]
  },
  {
   "cell_type": "code",
   "execution_count": 33,
   "id": "1908ca19",
   "metadata": {
    "scrolled": true
   },
   "outputs": [
    {
     "data": {
      "text/html": [
       "<div>\n",
       "<style scoped>\n",
       "    .dataframe tbody tr th:only-of-type {\n",
       "        vertical-align: middle;\n",
       "    }\n",
       "\n",
       "    .dataframe tbody tr th {\n",
       "        vertical-align: top;\n",
       "    }\n",
       "\n",
       "    .dataframe thead th {\n",
       "        text-align: right;\n",
       "    }\n",
       "</style>\n",
       "<table border=\"1\" class=\"dataframe\">\n",
       "  <thead>\n",
       "    <tr style=\"text-align: right;\">\n",
       "      <th></th>\n",
       "      <th>agent</th>\n",
       "      <th>relevance</th>\n",
       "      <th>thought</th>\n",
       "      <th>time</th>\n",
       "    </tr>\n",
       "  </thead>\n",
       "  <tbody>\n",
       "    <tr>\n",
       "      <th>0</th>\n",
       "      <td>misho</td>\n",
       "      <td>10</td>\n",
       "      <td>Feeling a bit tired</td>\n",
       "      <td>1684149129</td>\n",
       "    </tr>\n",
       "    <tr>\n",
       "      <th>1</th>\n",
       "      <td>zhenya</td>\n",
       "      <td>10</td>\n",
       "      <td>Feeling a bit tired</td>\n",
       "      <td>1684149129</td>\n",
       "    </tr>\n",
       "    <tr>\n",
       "      <th>2</th>\n",
       "      <td>zhenya</td>\n",
       "      <td>4</td>\n",
       "      <td>Feeling a bit hungry</td>\n",
       "      <td>1684149129</td>\n",
       "    </tr>\n",
       "    <tr>\n",
       "      <th>3</th>\n",
       "      <td>misho</td>\n",
       "      <td>10</td>\n",
       "      <td>Feeling a bit hungry</td>\n",
       "      <td>1684149129</td>\n",
       "    </tr>\n",
       "    <tr>\n",
       "      <th>4</th>\n",
       "      <td>misho</td>\n",
       "      <td>4</td>\n",
       "      <td>Totally starving</td>\n",
       "      <td>1684149129</td>\n",
       "    </tr>\n",
       "  </tbody>\n",
       "</table>\n",
       "</div>"
      ],
      "text/plain": [
       "    agent  relevance               thought        time\n",
       "0   misho         10   Feeling a bit tired  1684149129\n",
       "1  zhenya         10   Feeling a bit tired  1684149129\n",
       "2  zhenya          4  Feeling a bit hungry  1684149129\n",
       "3   misho         10  Feeling a bit hungry  1684149129\n",
       "4   misho          4      Totally starving  1684149129"
      ]
     },
     "execution_count": 33,
     "metadata": {},
     "output_type": "execute_result"
    }
   ],
   "source": [
    "pd.DataFrame(data)"
   ]
  },
  {
   "cell_type": "code",
   "execution_count": 36,
   "id": "86ed6153",
   "metadata": {},
   "outputs": [
    {
     "data": {
      "text/plain": [
       "5"
      ]
     },
     "execution_count": 36,
     "metadata": {},
     "output_type": "execute_result"
    }
   ],
   "source": [
    "wv.get_number_records()"
   ]
  },
  {
   "cell_type": "code",
   "execution_count": 34,
   "id": "bf204dd8",
   "metadata": {},
   "outputs": [],
   "source": [
    "data = wv.query_kw_and_filter(['hungry'],filter_by = 'agent', filter_value = 'misho')"
   ]
  },
  {
   "cell_type": "code",
   "execution_count": 26,
   "id": "9e372379",
   "metadata": {},
   "outputs": [],
   "source": [
    "import pandas as pd"
   ]
  },
  {
   "cell_type": "code",
   "execution_count": 35,
   "id": "ccc68fe2",
   "metadata": {},
   "outputs": [
    {
     "data": {
      "text/html": [
       "<div>\n",
       "<style scoped>\n",
       "    .dataframe tbody tr th:only-of-type {\n",
       "        vertical-align: middle;\n",
       "    }\n",
       "\n",
       "    .dataframe tbody tr th {\n",
       "        vertical-align: top;\n",
       "    }\n",
       "\n",
       "    .dataframe thead th {\n",
       "        text-align: right;\n",
       "    }\n",
       "</style>\n",
       "<table border=\"1\" class=\"dataframe\">\n",
       "  <thead>\n",
       "    <tr style=\"text-align: right;\">\n",
       "      <th></th>\n",
       "      <th>distance</th>\n",
       "      <th>id</th>\n",
       "      <th>agent</th>\n",
       "      <th>relevance</th>\n",
       "      <th>thought</th>\n",
       "      <th>time</th>\n",
       "    </tr>\n",
       "  </thead>\n",
       "  <tbody>\n",
       "    <tr>\n",
       "      <th>0</th>\n",
       "      <td>0.241128</td>\n",
       "      <td>e83b06dd-1056-4033-ba0a-23e39adf8325</td>\n",
       "      <td>misho</td>\n",
       "      <td>10</td>\n",
       "      <td>Feeling a bit hungry</td>\n",
       "      <td>1684149129</td>\n",
       "    </tr>\n",
       "    <tr>\n",
       "      <th>1</th>\n",
       "      <td>0.258211</td>\n",
       "      <td>edf04ae1-0a89-4e5c-a71e-2b86a4ea89f1</td>\n",
       "      <td>misho</td>\n",
       "      <td>4</td>\n",
       "      <td>Totally starving</td>\n",
       "      <td>1684149129</td>\n",
       "    </tr>\n",
       "    <tr>\n",
       "      <th>2</th>\n",
       "      <td>0.719300</td>\n",
       "      <td>3805096a-4e13-4ae3-96de-eedc56cc237f</td>\n",
       "      <td>misho</td>\n",
       "      <td>10</td>\n",
       "      <td>Feeling a bit tired</td>\n",
       "      <td>1684149129</td>\n",
       "    </tr>\n",
       "  </tbody>\n",
       "</table>\n",
       "</div>"
      ],
      "text/plain": [
       "   distance                                    id  agent  relevance   \n",
       "0  0.241128  e83b06dd-1056-4033-ba0a-23e39adf8325  misho         10  \\\n",
       "1  0.258211  edf04ae1-0a89-4e5c-a71e-2b86a4ea89f1  misho          4   \n",
       "2  0.719300  3805096a-4e13-4ae3-96de-eedc56cc237f  misho         10   \n",
       "\n",
       "                thought        time  \n",
       "0  Feeling a bit hungry  1684149129  \n",
       "1      Totally starving  1684149129  \n",
       "2   Feeling a bit tired  1684149129  "
      ]
     },
     "execution_count": 35,
     "metadata": {},
     "output_type": "execute_result"
    }
   ],
   "source": [
    "pd.DataFrame(data)"
   ]
  },
  {
   "cell_type": "code",
   "execution_count": null,
   "id": "e842693b",
   "metadata": {},
   "outputs": [],
   "source": []
  }
 ],
 "metadata": {
  "kernelspec": {
   "display_name": "similacra",
   "language": "python",
   "name": "similacra"
  },
  "language_info": {
   "codemirror_mode": {
    "name": "ipython",
    "version": 3
   },
   "file_extension": ".py",
   "mimetype": "text/x-python",
   "name": "python",
   "nbconvert_exporter": "python",
   "pygments_lexer": "ipython3",
   "version": "3.9.16"
  }
 },
 "nbformat": 4,
 "nbformat_minor": 5
}
